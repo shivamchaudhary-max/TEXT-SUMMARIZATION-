{
 "cells": [
  {
   "cell_type": "code",
   "execution_count": 1,
   "id": "28f21a8e",
   "metadata": {
    "execution": {
     "iopub.execute_input": "2022-01-08T17:48:54.436228Z",
     "iopub.status.busy": "2022-01-08T17:48:54.434593Z",
     "iopub.status.idle": "2022-01-08T17:48:54.448446Z",
     "shell.execute_reply": "2022-01-08T17:48:54.447765Z"
    },
    "id": "7Ol13i5fat1t",
    "papermill": {
     "duration": 0.03784,
     "end_time": "2022-01-08T17:48:54.448634",
     "exception": false,
     "start_time": "2022-01-08T17:48:54.410794",
     "status": "completed"
    },
    "tags": []
   },
   "outputs": [],
   "source": [
    "text='''The Taliban takeover of Afghanistan raises the question: What will happen to Afghan women? One needs to discuss four issues for an answer — the status of Afghan women before the Taliban captured power in 1996, during their regime, what they regained since the ouster of the Taliban, and what the outfit could be expected to do on its return.\n",
    "As to the first, a report, ‘Taliban’s War on Women: A Health and Human Rights Crisis in Afghanistan’ by the Physicians for Human Rights, a distinguished human rights organisation in the US, states that before the Taliban captured Kabul, women accounted for “70 per cent of all teachers, about 50 per cent of civil servants and 40 per cent of medical doctors in Afghanistan.”\n",
    "What happened during Taliban rule? Kamal Moinuddin, a retired lieutenant-general of the Pakistan Army, puts it in a capsule in The Taliban Phenomenon: Afghanistan 1994-1997: “Girls are being denied education; women have been prevented from working; if they leave their house, they have to be covered from head to foot with a veil (burqa); besides being veiled, women have to be accompanied by a male relative when they venture out in the streets. Shopkeepers have been directed not to sell goods to unveiled women. Rickshaw drivers are not to pick up women passengers unless they are fully covered. Women caught violating these rules are imprisoned, as are the shopkeeper and the rickshaw driver.”\n",
    "Must Read Opinions It is time to end judicial feudalism in India It is not enough to protect the precincts of Sabarmati Ashram\n",
    "Indians have great trust in science. So why is pseudoscience being promoted? Things began to change after the Taliban were ousted from power following the US-led invasion launched in October 2001. As George R Allen and Vanda Felbab-Brown state in their paper, ‘Fate of Women’s Rights in Afghanistan’ — a part of Brookings Institution’s 19A Gender Equality Series — the 2004 post-Taliban constitution “gave Afghan women all kinds of rights, and the post-Taliban political dispensation brought social and economic growth that significantly improved their socio-economic condition”. They further state that against less than 10 in 2003, the percentage of girls enrolled in primary schools rose to 33 in 2017. Registered female enrolment in secondary schools rose from six to 39 per cent in the same year. Three-and-a-half million Afghan girls were in school with 100,000 studying in universities. They add, “By 2020, 21 per cent of Afghan civil servants were women (compared with none under the Taliban regime), 16 per cent of them were in senior management positions, and 27 per cent of Afghan members of Parliament were women.”\n",
    "According to Allen and Felbab-Brown, in rural Afghanistan, where 76 per cent of Afghanistan’s women live, life has not changed much from the Taliban era, their formal legal empowerment notwithstanding. Existence of rights, and their utilisation by some is, however, a starting point. The achievements of urban Afghan women could have been an example to others. Change is a slow process in history, more so in a traditional country like Afghanistan. But extinction of the rights Afghan women now enjoy will reverse the process.\n",
    "This brings us to the fourth issue. Some hold that the Taliban would moderate their hardline views on women in their second coming. Referring to the Taliban leaders interviewed for their project, Borhan Osman and Anand Gopal write in their paper, ‘Taliban Views on a Future State’, “Most respondents agreed that the Taliban has evolved considerably in its social outlook. They attribute this to the changed conditions from the 1990s: Many Taliban leaders have now spent over a decade in Pakistan or the Gulf, which has greatly broadened their horizons from their parochial upbringings in southern Afghanistan. In addition, many Taliban leaders have since 2001 completed their studies and engaged with the broader world of Islamist discourse, opening their perspective to new interpretations of Islam. For this reason, respondents now judge many Taliban edicts of the 1990s — such as those enacted by the notorious Vice and Virtue religious police, or the shuttering of girls’ schools — as too harsh or inappropriate for today. Taliban views on personal dress, female education and television appear to have softened considerably.”\n",
    "'''"
   ]
  },
  {
   "cell_type": "code",
   "execution_count": 2,
   "id": "30763a5d",
   "metadata": {
    "execution": {
     "iopub.execute_input": "2022-01-08T17:48:54.492693Z",
     "iopub.status.busy": "2022-01-08T17:48:54.492092Z",
     "iopub.status.idle": "2022-01-08T17:48:54.495208Z",
     "shell.execute_reply": "2022-01-08T17:48:54.495637Z"
    },
    "id": "p1uCYUjpgb2R",
    "outputId": "a49377fc-ab40-4bb8-ca82-a0e5acffb934",
    "papermill": {
     "duration": 0.028275,
     "end_time": "2022-01-08T17:48:54.495795",
     "exception": false,
     "start_time": "2022-01-08T17:48:54.467520",
     "status": "completed"
    },
    "tags": []
   },
   "outputs": [
    {
     "data": {
      "text/plain": [
       "'The Taliban takeover of Afghanistan raises the question: What will happen to Afghan women? One needs to discuss four issues for an answer — the status of Afghan women before the Taliban captured power in 1996, during their regime, what they regained since the ouster of the Taliban, and what the outfit could be expected to do on its return.\\nAs to the first, a report, ‘Taliban’s War on Women: A Health and Human Rights Crisis in Afghanistan’ by the Physicians for Human Rights, a distinguished human rights organisation in the US, states that before the Taliban captured Kabul, women accounted for “70 per cent of all teachers, about 50 per cent of civil servants and 40 per cent of medical doctors in Afghanistan.”\\nWhat happened during Taliban rule? Kamal Moinuddin, a retired lieutenant-general of the Pakistan Army, puts it in a capsule in The Taliban Phenomenon: Afghanistan 1994-1997: “Girls are being denied education; women have been prevented from working; if they leave their house, they have to be covered from head to foot with a veil (burqa); besides being veiled, women have to be accompanied by a male relative when they venture out in the streets. Shopkeepers have been directed not to sell goods to unveiled women. Rickshaw drivers are not to pick up women passengers unless they are fully covered. Women caught violating these rules are imprisoned, as are the shopkeeper and the rickshaw driver.”\\nMust Read Opinions It is time to end judicial feudalism in India It is not enough to protect the precincts of Sabarmati Ashram\\nIndians have great trust in science. So why is pseudoscience being promoted? Things began to change after the Taliban were ousted from power following the US-led invasion launched in October 2001. As George R Allen and Vanda Felbab-Brown state in their paper, ‘Fate of Women’s Rights in Afghanistan’ — a part of Brookings Institution’s 19A Gender Equality Series — the 2004 post-Taliban constitution “gave Afghan women all kinds of rights, and the post-Taliban political dispensation brought social and economic growth that significantly improved their socio-economic condition”. They further state that against less than 10 in 2003, the percentage of girls enrolled in primary schools rose to 33 in 2017. Registered female enrolment in secondary schools rose from six to 39 per cent in the same year. Three-and-a-half million Afghan girls were in school with 100,000 studying in universities. They add, “By 2020, 21 per cent of Afghan civil servants were women (compared with none under the Taliban regime), 16 per cent of them were in senior management positions, and 27 per cent of Afghan members of Parliament were women.”\\nAccording to Allen and Felbab-Brown, in rural Afghanistan, where 76 per cent of Afghanistan’s women live, life has not changed much from the Taliban era, their formal legal empowerment notwithstanding. Existence of rights, and their utilisation by some is, however, a starting point. The achievements of urban Afghan women could have been an example to others. Change is a slow process in history, more so in a traditional country like Afghanistan. But extinction of the rights Afghan women now enjoy will reverse the process.\\nThis brings us to the fourth issue. Some hold that the Taliban would moderate their hardline views on women in their second coming. Referring to the Taliban leaders interviewed for their project, Borhan Osman and Anand Gopal write in their paper, ‘Taliban Views on a Future State’, “Most respondents agreed that the Taliban has evolved considerably in its social outlook. They attribute this to the changed conditions from the 1990s: Many Taliban leaders have now spent over a decade in Pakistan or the Gulf, which has greatly broadened their horizons from their parochial upbringings in southern Afghanistan. In addition, many Taliban leaders have since 2001 completed their studies and engaged with the broader world of Islamist discourse, opening their perspective to new interpretations of Islam. For this reason, respondents now judge many Taliban edicts of the 1990s — such as those enacted by the notorious Vice and Virtue religious police, or the shuttering of girls’ schools — as too harsh or inappropriate for today. Taliban views on personal dress, female education and television appear to have softened considerably.”\\n'"
      ]
     },
     "execution_count": 2,
     "metadata": {},
     "output_type": "execute_result"
    }
   ],
   "source": [
    "text"
   ]
  },
  {
   "cell_type": "code",
   "execution_count": 3,
   "id": "6bbec195",
   "metadata": {
    "execution": {
     "iopub.execute_input": "2022-01-08T17:48:54.538590Z",
     "iopub.status.busy": "2022-01-08T17:48:54.537530Z",
     "iopub.status.idle": "2022-01-08T17:49:04.422417Z",
     "shell.execute_reply": "2022-01-08T17:49:04.421355Z"
    },
    "id": "W_YgbCCDhEIj",
    "papermill": {
     "duration": 9.907166,
     "end_time": "2022-01-08T17:49:04.422584",
     "exception": false,
     "start_time": "2022-01-08T17:48:54.515418",
     "status": "completed"
    },
    "tags": []
   },
   "outputs": [],
   "source": [
    "import spacy\n",
    "from spacy.lang.en.stop_words import STOP_WORDS\n",
    "from string import punctuation\n",
    "from nltk.tokenize import sent_tokenize"
   ]
  },
  {
   "cell_type": "code",
   "execution_count": 4,
   "id": "064acca5",
   "metadata": {
    "execution": {
     "iopub.execute_input": "2022-01-08T17:49:04.465987Z",
     "iopub.status.busy": "2022-01-08T17:49:04.465047Z",
     "iopub.status.idle": "2022-01-08T17:49:05.073333Z",
     "shell.execute_reply": "2022-01-08T17:49:05.072646Z"
    },
    "id": "uxfJuf3BhZcq",
    "papermill": {
     "duration": 0.632037,
     "end_time": "2022-01-08T17:49:05.073474",
     "exception": false,
     "start_time": "2022-01-08T17:49:04.441437",
     "status": "completed"
    },
    "tags": []
   },
   "outputs": [],
   "source": [
    "nlp=spacy.load('en_core_web_sm')"
   ]
  },
  {
   "cell_type": "code",
   "execution_count": 5,
   "id": "6ac7aafc",
   "metadata": {
    "execution": {
     "iopub.execute_input": "2022-01-08T17:49:05.133181Z",
     "iopub.status.busy": "2022-01-08T17:49:05.130085Z",
     "iopub.status.idle": "2022-01-08T17:49:05.286810Z",
     "shell.execute_reply": "2022-01-08T17:49:05.287363Z"
    },
    "id": "inPsiX53icg8",
    "papermill": {
     "duration": 0.195149,
     "end_time": "2022-01-08T17:49:05.287572",
     "exception": false,
     "start_time": "2022-01-08T17:49:05.092423",
     "status": "completed"
    },
    "tags": []
   },
   "outputs": [],
   "source": [
    " # Process the text\n",
    " doc = nlp(text)"
   ]
  },
  {
   "cell_type": "code",
   "execution_count": 6,
   "id": "3ba31170",
   "metadata": {
    "execution": {
     "iopub.execute_input": "2022-01-08T17:49:05.339559Z",
     "iopub.status.busy": "2022-01-08T17:49:05.338929Z",
     "iopub.status.idle": "2022-01-08T17:49:05.647404Z",
     "shell.execute_reply": "2022-01-08T17:49:05.646880Z"
    },
    "id": "p14gsktDjPa_",
    "outputId": "3ee7a854-2489-4826-c73a-d50b744cc426",
    "papermill": {
     "duration": 0.333649,
     "end_time": "2022-01-08T17:49:05.647564",
     "exception": false,
     "start_time": "2022-01-08T17:49:05.313915",
     "status": "completed"
    },
    "tags": []
   },
   "outputs": [
    {
     "name": "stdout",
     "output_type": "stream",
     "text": [
      "The DET the\n",
      "Taliban PROPN Taliban\n",
      "takeover NOUN takeover\n",
      "of ADP of\n",
      "Afghanistan PROPN Afghanistan\n",
      "raises VERB raise\n",
      "the DET the\n",
      "question NOUN question\n",
      ": PUNCT :\n",
      "What PRON what\n",
      "will AUX will\n",
      "happen VERB happen\n",
      "to ADP to\n",
      "Afghan ADJ afghan\n",
      "women NOUN woman\n",
      "? PUNCT ?\n",
      "One PRON one\n",
      "needs VERB need\n",
      "to PART to\n",
      "discuss VERB discuss\n",
      "four NUM four\n",
      "issues NOUN issue\n",
      "for ADP for\n",
      "an DET an\n",
      "answer NOUN answer\n",
      "— PUNCT —\n",
      "the DET the\n",
      "status NOUN status\n",
      "of ADP of\n",
      "Afghan ADJ afghan\n",
      "women NOUN woman\n",
      "before ADP before\n",
      "the DET the\n",
      "Taliban PROPN Taliban\n",
      "captured VERB capture\n",
      "power NOUN power\n",
      "in ADP in\n",
      "1996 NUM 1996\n",
      ", PUNCT ,\n",
      "during ADP during\n",
      "their PRON their\n",
      "regime NOUN regime\n",
      ", PUNCT ,\n",
      "what PRON what\n",
      "they PRON they\n",
      "regained VERB regain\n",
      "since SCONJ since\n",
      "the DET the\n",
      "ouster NOUN ouster\n",
      "of ADP of\n",
      "the DET the\n",
      "Taliban PROPN Taliban\n",
      ", PUNCT ,\n",
      "and CCONJ and\n",
      "what PRON what\n",
      "the DET the\n",
      "outfit NOUN outfit\n",
      "could AUX could\n",
      "be AUX be\n",
      "expected VERB expect\n",
      "to PART to\n",
      "do VERB do\n",
      "on ADP on\n",
      "its PRON its\n",
      "return NOUN return\n",
      ". PUNCT .\n",
      "\n",
      " SPACE \n",
      "\n",
      "As ADP as\n",
      "to ADP to\n",
      "the DET the\n",
      "first ADJ first\n",
      ", PUNCT ,\n",
      "a DET a\n",
      "report NOUN report\n",
      ", PUNCT ,\n",
      "‘ PUNCT '\n",
      "Taliban PROPN Taliban\n",
      "’s NOUN ’s\n",
      "War PROPN War\n",
      "on ADP on\n",
      "Women PROPN Women\n",
      ": PUNCT :\n",
      "A DET a\n",
      "Health PROPN Health\n",
      "and CCONJ and\n",
      "Human PROPN Human\n",
      "Rights PROPN Rights\n",
      "Crisis PROPN Crisis\n",
      "in ADP in\n",
      "Afghanistan PROPN Afghanistan\n",
      "’ PUNCT '\n",
      "by ADP by\n",
      "the DET the\n",
      "Physicians PROPN Physicians\n",
      "for ADP for\n",
      "Human PROPN Human\n",
      "Rights PROPN Rights\n",
      ", PUNCT ,\n",
      "a DET a\n",
      "distinguished ADJ distinguished\n",
      "human ADJ human\n",
      "rights NOUN right\n",
      "organisation NOUN organisation\n",
      "in ADP in\n",
      "the DET the\n",
      "US PROPN US\n",
      ", PUNCT ,\n",
      "states VERB state\n",
      "that SCONJ that\n",
      "before ADP before\n",
      "the DET the\n",
      "Taliban PROPN Taliban\n",
      "captured VERB capture\n",
      "Kabul PROPN Kabul\n",
      ", PUNCT ,\n",
      "women NOUN woman\n",
      "accounted VERB account\n",
      "for ADP for\n",
      "“ PUNCT \"\n",
      "70 NUM 70\n",
      "per ADP per\n",
      "cent NOUN cent\n",
      "of ADP of\n",
      "all DET all\n",
      "teachers NOUN teacher\n",
      ", PUNCT ,\n",
      "about ADV about\n",
      "50 NUM 50\n",
      "per ADP per\n",
      "cent NOUN cent\n",
      "of ADP of\n",
      "civil ADJ civil\n",
      "servants NOUN servant\n",
      "and CCONJ and\n",
      "40 NUM 40\n",
      "per ADP per\n",
      "cent NOUN cent\n",
      "of ADP of\n",
      "medical ADJ medical\n",
      "doctors NOUN doctor\n",
      "in ADP in\n",
      "Afghanistan PROPN Afghanistan\n",
      ". PUNCT .\n",
      "” PUNCT \"\n",
      "\n",
      " SPACE \n",
      "\n",
      "What PRON what\n",
      "happened VERB happen\n",
      "during ADP during\n",
      "Taliban PROPN Taliban\n",
      "rule NOUN rule\n",
      "? PUNCT ?\n",
      "Kamal PROPN Kamal\n",
      "Moinuddin PROPN Moinuddin\n",
      ", PUNCT ,\n",
      "a DET a\n",
      "retired VERB retire\n",
      "lieutenant NOUN lieutenant\n",
      "- PUNCT -\n",
      "general NOUN general\n",
      "of ADP of\n",
      "the DET the\n",
      "Pakistan PROPN Pakistan\n",
      "Army PROPN Army\n",
      ", PUNCT ,\n",
      "puts VERB put\n",
      "it PRON it\n",
      "in ADP in\n",
      "a DET a\n",
      "capsule NOUN capsule\n",
      "in ADP in\n",
      "The DET the\n",
      "Taliban PROPN Taliban\n",
      "Phenomenon PROPN Phenomenon\n",
      ": PUNCT :\n",
      "Afghanistan PROPN Afghanistan\n",
      "1994 NUM 1994\n",
      "- SYM -\n",
      "1997 NUM 1997\n",
      ": PUNCT :\n",
      "“ PUNCT \"\n",
      "Girls NOUN girl\n",
      "are AUX be\n",
      "being AUX be\n",
      "denied VERB deny\n",
      "education NOUN education\n",
      "; PUNCT ;\n",
      "women NOUN woman\n",
      "have AUX have\n",
      "been AUX be\n",
      "prevented VERB prevent\n",
      "from ADP from\n",
      "working VERB work\n",
      "; PUNCT ;\n",
      "if SCONJ if\n",
      "they PRON they\n",
      "leave VERB leave\n",
      "their PRON their\n",
      "house NOUN house\n",
      ", PUNCT ,\n",
      "they PRON they\n",
      "have VERB have\n",
      "to PART to\n",
      "be AUX be\n",
      "covered VERB cover\n",
      "from ADP from\n",
      "head NOUN head\n",
      "to AUX to\n",
      "foot VERB foot\n",
      "with ADP with\n",
      "a DET a\n",
      "veil NOUN veil\n",
      "( PUNCT (\n",
      "burqa NOUN burqa\n",
      ") PUNCT )\n",
      "; PUNCT ;\n",
      "besides SCONJ besides\n",
      "being AUX be\n",
      "veiled VERB veil\n",
      ", PUNCT ,\n",
      "women NOUN woman\n",
      "have VERB have\n",
      "to PART to\n",
      "be AUX be\n",
      "accompanied VERB accompany\n",
      "by ADP by\n",
      "a DET a\n",
      "male NOUN male\n",
      "relative NOUN relative\n",
      "when ADV when\n",
      "they PRON they\n",
      "venture VERB venture\n",
      "out ADP out\n",
      "in ADP in\n",
      "the DET the\n",
      "streets NOUN street\n",
      ". PUNCT .\n",
      "Shopkeepers NOUN shopkeeper\n",
      "have AUX have\n",
      "been AUX be\n",
      "directed VERB direct\n",
      "not PART not\n",
      "to PART to\n",
      "sell VERB sell\n",
      "goods NOUN good\n",
      "to ADP to\n",
      "unveiled ADJ unveiled\n",
      "women NOUN woman\n",
      ". PUNCT .\n",
      "Rickshaw ADJ rickshaw\n",
      "drivers NOUN driver\n",
      "are AUX be\n",
      "not PART not\n",
      "to PART to\n",
      "pick VERB pick\n",
      "up ADP up\n",
      "women NOUN woman\n",
      "passengers NOUN passenger\n",
      "unless SCONJ unless\n",
      "they PRON they\n",
      "are AUX be\n",
      "fully ADV fully\n",
      "covered VERB cover\n",
      ". PUNCT .\n",
      "Women NOUN woman\n",
      "caught VERB catch\n",
      "violating VERB violate\n",
      "these DET these\n",
      "rules NOUN rule\n",
      "are AUX be\n",
      "imprisoned VERB imprison\n",
      ", PUNCT ,\n",
      "as ADP as\n",
      "are VERB be\n",
      "the DET the\n",
      "shopkeeper NOUN shopkeeper\n",
      "and CCONJ and\n",
      "the DET the\n",
      "rickshaw ADJ rickshaw\n",
      "driver NOUN driver\n",
      ". PUNCT .\n",
      "” PUNCT \"\n",
      "\n",
      " SPACE \n",
      "\n",
      "Must AUX must\n",
      "Read VERB read\n",
      "Opinions NOUN opinion\n",
      "It PRON it\n",
      "is AUX be\n",
      "time NOUN time\n",
      "to PART to\n",
      "end VERB end\n",
      "judicial ADJ judicial\n",
      "feudalism NOUN feudalism\n",
      "in ADP in\n",
      "India PROPN India\n",
      "It PRON it\n",
      "is AUX be\n",
      "not PART not\n",
      "enough ADJ enough\n",
      "to PART to\n",
      "protect VERB protect\n",
      "the DET the\n",
      "precincts NOUN precinct\n",
      "of ADP of\n",
      "Sabarmati PROPN Sabarmati\n",
      "Ashram PROPN Ashram\n",
      "\n",
      " SPACE \n",
      "\n",
      "Indians PROPN Indians\n",
      "have VERB have\n",
      "great ADJ great\n",
      "trust NOUN trust\n",
      "in ADP in\n",
      "science NOUN science\n",
      ". PUNCT .\n",
      "So ADV so\n",
      "why ADV why\n",
      "is AUX be\n",
      "pseudoscience NOUN pseudoscience\n",
      "being AUX be\n",
      "promoted VERB promote\n",
      "? PUNCT ?\n",
      "Things NOUN thing\n",
      "began VERB begin\n",
      "to PART to\n",
      "change VERB change\n",
      "after ADP after\n",
      "the DET the\n",
      "Taliban PROPN Taliban\n",
      "were AUX be\n",
      "ousted VERB oust\n",
      "from ADP from\n",
      "power NOUN power\n",
      "following VERB follow\n",
      "the DET the\n",
      "US PROPN US\n",
      "- PUNCT -\n",
      "led VERB lead\n",
      "invasion NOUN invasion\n",
      "launched VERB launch\n",
      "in ADP in\n",
      "October PROPN October\n",
      "2001 NUM 2001\n",
      ". PUNCT .\n",
      "As ADP as\n",
      "George PROPN George\n",
      "R PROPN R\n",
      "Allen PROPN Allen\n",
      "and CCONJ and\n",
      "Vanda PROPN Vanda\n",
      "Felbab PROPN Felbab\n",
      "- PUNCT -\n",
      "Brown PROPN Brown\n",
      "state NOUN state\n",
      "in ADP in\n",
      "their PRON their\n",
      "paper NOUN paper\n",
      ", PUNCT ,\n",
      "‘ PUNCT '\n",
      "Fate PROPN Fate\n",
      "of ADP of\n",
      "Women PROPN Women\n",
      "’s PART ’s\n",
      "Rights PROPN Rights\n",
      "in ADP in\n",
      "Afghanistan PROPN Afghanistan\n",
      "’ PUNCT '\n",
      "— PUNCT —\n",
      "a DET a\n",
      "part NOUN part\n",
      "of ADP of\n",
      "Brookings PROPN Brookings\n",
      "Institution PROPN Institution\n",
      "’s PART ’s\n",
      "19A NUM 19a\n",
      "Gender PROPN Gender\n",
      "Equality PROPN Equality\n",
      "Series PROPN Series\n",
      "— PUNCT —\n",
      "the DET the\n",
      "2004 NUM 2004\n",
      "post ADJ post\n",
      "- ADJ -\n",
      "Taliban ADJ taliban\n",
      "constitution NOUN constitution\n",
      "“ PUNCT \"\n",
      "gave VERB give\n",
      "Afghan ADJ afghan\n",
      "women NOUN woman\n",
      "all DET all\n",
      "kinds NOUN kind\n",
      "of ADP of\n",
      "rights NOUN right\n",
      ", PUNCT ,\n",
      "and CCONJ and\n",
      "the DET the\n",
      "post ADJ post\n",
      "- ADJ -\n",
      "Taliban ADJ taliban\n",
      "political ADJ political\n",
      "dispensation NOUN dispensation\n",
      "brought VERB bring\n",
      "social ADJ social\n",
      "and CCONJ and\n",
      "economic ADJ economic\n",
      "growth NOUN growth\n",
      "that DET that\n",
      "significantly ADV significantly\n",
      "improved VERB improve\n",
      "their PRON their\n",
      "socio NOUN socio\n",
      "- PUNCT -\n",
      "economic ADJ economic\n",
      "condition NOUN condition\n",
      "” PUNCT \"\n",
      ". PUNCT .\n",
      "They PRON they\n",
      "further ADV far\n",
      "state VERB state\n",
      "that SCONJ that\n",
      "against ADP against\n",
      "less ADJ less\n",
      "than SCONJ than\n",
      "10 NUM 10\n",
      "in ADP in\n",
      "2003 NUM 2003\n",
      ", PUNCT ,\n",
      "the DET the\n",
      "percentage NOUN percentage\n",
      "of ADP of\n",
      "girls NOUN girl\n",
      "enrolled VERB enrol\n",
      "in ADP in\n",
      "primary ADJ primary\n",
      "schools NOUN school\n",
      "rose VERB rise\n",
      "to ADP to\n",
      "33 NUM 33\n",
      "in ADP in\n",
      "2017 NUM 2017\n",
      ". PUNCT .\n",
      "Registered VERB register\n",
      "female ADJ female\n",
      "enrolment NOUN enrolment\n",
      "in ADP in\n",
      "secondary ADJ secondary\n",
      "schools NOUN school\n",
      "rose VERB rise\n",
      "from ADP from\n",
      "six NUM six\n",
      "to PART to\n",
      "39 NUM 39\n",
      "per ADP per\n",
      "cent NOUN cent\n",
      "in ADP in\n",
      "the DET the\n",
      "same ADJ same\n",
      "year NOUN year\n",
      ". PUNCT .\n",
      "Three NUM three\n",
      "- PUNCT -\n",
      "and CCONJ and\n",
      "- PUNCT -\n",
      "a DET a\n",
      "- PUNCT -\n",
      "half NOUN half\n",
      "million NUM million\n",
      "Afghan ADJ afghan\n",
      "girls NOUN girl\n",
      "were AUX be\n",
      "in ADP in\n",
      "school NOUN school\n",
      "with ADP with\n",
      "100,000 NUM 100,000\n",
      "studying VERB study\n",
      "in ADP in\n",
      "universities NOUN university\n",
      ". PUNCT .\n",
      "They PRON they\n",
      "add VERB add\n",
      ", PUNCT ,\n",
      "“ PUNCT \"\n",
      "By ADP by\n",
      "2020 NUM 2020\n",
      ", PUNCT ,\n",
      "21 NUM 21\n",
      "per ADP per\n",
      "cent NOUN cent\n",
      "of ADP of\n",
      "Afghan ADJ afghan\n",
      "civil ADJ civil\n",
      "servants NOUN servant\n",
      "were AUX be\n",
      "women NOUN woman\n",
      "( PUNCT (\n",
      "compared VERB compare\n",
      "with ADP with\n",
      "none NOUN none\n",
      "under ADP under\n",
      "the DET the\n",
      "Taliban PROPN Taliban\n",
      "regime NOUN regime\n",
      ") PUNCT )\n",
      ", PUNCT ,\n",
      "16 NUM 16\n",
      "per ADP per\n",
      "cent NOUN cent\n",
      "of ADP of\n",
      "them PRON they\n",
      "were VERB be\n",
      "in ADP in\n",
      "senior ADJ senior\n",
      "management NOUN management\n",
      "positions NOUN position\n",
      ", PUNCT ,\n",
      "and CCONJ and\n",
      "27 NUM 27\n",
      "per ADP per\n",
      "cent NOUN cent\n",
      "of ADP of\n",
      "Afghan ADJ afghan\n",
      "members NOUN member\n",
      "of ADP of\n",
      "Parliament PROPN Parliament\n",
      "were VERB be\n",
      "women NOUN woman\n",
      ". PUNCT .\n",
      "” PUNCT \"\n",
      "\n",
      " SPACE \n",
      "\n",
      "According VERB accord\n",
      "to ADP to\n",
      "Allen PROPN Allen\n",
      "and CCONJ and\n",
      "Felbab PROPN Felbab\n",
      "- PUNCT -\n",
      "Brown PROPN Brown\n",
      ", PUNCT ,\n",
      "in ADP in\n",
      "rural ADJ rural\n",
      "Afghanistan PROPN Afghanistan\n",
      ", PUNCT ,\n",
      "where ADV where\n",
      "76 NUM 76\n",
      "per ADP per\n",
      "cent NOUN cent\n",
      "of ADP of\n",
      "Afghanistan PROPN Afghanistan\n",
      "’s PART ’s\n",
      "women NOUN woman\n",
      "live VERB live\n",
      ", PUNCT ,\n",
      "life NOUN life\n",
      "has AUX have\n",
      "not PART not\n",
      "changed VERB change\n",
      "much ADV much\n",
      "from ADP from\n",
      "the DET the\n",
      "Taliban PROPN Taliban\n",
      "era NOUN era\n",
      ", PUNCT ,\n",
      "their PRON their\n",
      "formal ADJ formal\n",
      "legal ADJ legal\n",
      "empowerment NOUN empowerment\n",
      "notwithstanding ADP notwithstanding\n",
      ". PUNCT .\n",
      "Existence NOUN existence\n",
      "of ADP of\n",
      "rights NOUN right\n",
      ", PUNCT ,\n",
      "and CCONJ and\n",
      "their PRON their\n",
      "utilisation NOUN utilisation\n",
      "by ADP by\n",
      "some DET some\n",
      "is AUX be\n",
      ", PUNCT ,\n",
      "however ADV however\n",
      ", PUNCT ,\n",
      "a DET a\n",
      "starting NOUN starting\n",
      "point NOUN point\n",
      ". PUNCT .\n",
      "The DET the\n",
      "achievements NOUN achievement\n",
      "of ADP of\n",
      "urban ADJ urban\n",
      "Afghan ADJ afghan\n",
      "women NOUN woman\n",
      "could AUX could\n",
      "have AUX have\n",
      "been VERB be\n",
      "an DET an\n",
      "example NOUN example\n",
      "to ADP to\n",
      "others NOUN other\n",
      ". PUNCT .\n",
      "Change NOUN change\n",
      "is AUX be\n",
      "a DET a\n",
      "slow ADJ slow\n",
      "process NOUN process\n",
      "in ADP in\n",
      "history NOUN history\n",
      ", PUNCT ,\n",
      "more ADV more\n",
      "so ADV so\n",
      "in ADP in\n",
      "a DET a\n",
      "traditional ADJ traditional\n",
      "country NOUN country\n",
      "like ADP like\n",
      "Afghanistan PROPN Afghanistan\n",
      ". PUNCT .\n",
      "But CCONJ but\n",
      "extinction NOUN extinction\n",
      "of ADP of\n",
      "the DET the\n",
      "rights NOUN right\n",
      "Afghan ADJ afghan\n",
      "women NOUN woman\n",
      "now ADV now\n",
      "enjoy VERB enjoy\n",
      "will AUX will\n",
      "reverse VERB reverse\n",
      "the DET the\n",
      "process NOUN process\n",
      ". PUNCT .\n",
      "\n",
      " SPACE \n",
      "\n",
      "This DET this\n",
      "brings VERB bring\n",
      "us PRON we\n",
      "to ADP to\n",
      "the DET the\n",
      "fourth ADJ fourth\n",
      "issue NOUN issue\n",
      ". PUNCT .\n",
      "Some DET some\n",
      "hold VERB hold\n",
      "that SCONJ that\n",
      "the DET the\n",
      "Taliban PROPN Taliban\n",
      "would AUX would\n",
      "moderate VERB moderate\n",
      "their PRON their\n",
      "hardline NOUN hardline\n",
      "views NOUN view\n",
      "on ADP on\n",
      "women NOUN woman\n",
      "in ADP in\n",
      "their PRON their\n",
      "second ADJ second\n",
      "coming NOUN coming\n",
      ". PUNCT .\n",
      "Referring VERB refer\n",
      "to ADP to\n",
      "the DET the\n",
      "Taliban PROPN Taliban\n",
      "leaders NOUN leader\n",
      "interviewed VERB interview\n",
      "for ADP for\n",
      "their PRON their\n",
      "project NOUN project\n",
      ", PUNCT ,\n",
      "Borhan PROPN Borhan\n",
      "Osman PROPN Osman\n",
      "and CCONJ and\n",
      "Anand PROPN Anand\n",
      "Gopal PROPN Gopal\n",
      "write VERB write\n",
      "in ADP in\n",
      "their PRON their\n",
      "paper NOUN paper\n",
      ", PUNCT ,\n",
      "‘ PUNCT '\n",
      "Taliban PROPN Taliban\n",
      "Views NOUN view\n",
      "on ADP on\n",
      "a DET a\n",
      "Future PROPN Future\n",
      "State PROPN State\n",
      "’ PUNCT '\n",
      ", PUNCT ,\n",
      "“ PUNCT \"\n",
      "Most ADJ Most\n",
      "respondents NOUN respondent\n",
      "agreed VERB agree\n",
      "that SCONJ that\n",
      "the DET the\n",
      "Taliban PROPN Taliban\n",
      "has AUX have\n",
      "evolved VERB evolve\n",
      "considerably ADV considerably\n",
      "in ADP in\n",
      "its PRON its\n",
      "social ADJ social\n",
      "outlook NOUN outlook\n",
      ". PUNCT .\n",
      "They PRON they\n",
      "attribute VERB attribute\n",
      "this DET this\n",
      "to ADP to\n",
      "the DET the\n",
      "changed VERB change\n",
      "conditions NOUN condition\n",
      "from ADP from\n",
      "the DET the\n",
      "1990s NOUN 1990\n",
      ": PUNCT :\n",
      "Many ADJ many\n",
      "Taliban PROPN Taliban\n",
      "leaders NOUN leader\n",
      "have AUX have\n",
      "now ADV now\n",
      "spent VERB spend\n",
      "over ADP over\n",
      "a DET a\n",
      "decade NOUN decade\n",
      "in ADP in\n",
      "Pakistan PROPN Pakistan\n",
      "or CCONJ or\n",
      "the DET the\n",
      "Gulf PROPN Gulf\n",
      ", PUNCT ,\n",
      "which DET which\n",
      "has AUX have\n",
      "greatly ADV greatly\n",
      "broadened VERB broaden\n",
      "their PRON their\n",
      "horizons NOUN horizon\n",
      "from ADP from\n",
      "their PRON their\n",
      "parochial ADJ parochial\n",
      "upbringings NOUN upbringing\n",
      "in ADP in\n",
      "southern ADJ southern\n",
      "Afghanistan PROPN Afghanistan\n",
      ". PUNCT .\n",
      "In ADP in\n",
      "addition NOUN addition\n",
      ", PUNCT ,\n",
      "many ADJ many\n",
      "Taliban PROPN Taliban\n",
      "leaders NOUN leader\n",
      "have AUX have\n",
      "since SCONJ since\n",
      "2001 NUM 2001\n",
      "completed VERB complete\n",
      "their PRON their\n",
      "studies NOUN study\n",
      "and CCONJ and\n",
      "engaged VERB engage\n",
      "with ADP with\n",
      "the DET the\n",
      "broader ADJ broad\n",
      "world NOUN world\n",
      "of ADP of\n",
      "Islamist ADJ islamist\n",
      "discourse NOUN discourse\n",
      ", PUNCT ,\n",
      "opening VERB open\n",
      "their PRON their\n",
      "perspective NOUN perspective\n",
      "to ADP to\n",
      "new ADJ new\n",
      "interpretations NOUN interpretation\n",
      "of ADP of\n",
      "Islam PROPN Islam\n",
      ". PUNCT .\n",
      "For ADP for\n",
      "this DET this\n",
      "reason NOUN reason\n",
      ", PUNCT ,\n",
      "respondents NOUN respondent\n",
      "now ADV now\n",
      "judge VERB judge\n",
      "many ADJ many\n",
      "Taliban PROPN Taliban\n",
      "edicts NOUN edict\n",
      "of ADP of\n",
      "the DET the\n",
      "1990s NUM 1990s\n",
      "— PUNCT —\n",
      "such ADJ such\n",
      "as ADP as\n",
      "those DET those\n",
      "enacted VERB enact\n",
      "by ADP by\n",
      "the DET the\n",
      "notorious ADJ notorious\n",
      "Vice PROPN Vice\n",
      "and CCONJ and\n",
      "Virtue PROPN Virtue\n",
      "religious ADJ religious\n",
      "police NOUN police\n",
      ", PUNCT ,\n",
      "or CCONJ or\n",
      "the DET the\n",
      "shuttering NOUN shuttering\n",
      "of ADP of\n",
      "girls NOUN girl\n",
      "’ PART ’\n",
      "schools NOUN school\n",
      "— PUNCT —\n",
      "as ADP as\n",
      "too ADV too\n",
      "harsh ADJ harsh\n",
      "or CCONJ or\n",
      "inappropriate ADJ inappropriate\n",
      "for ADP for\n",
      "today NOUN today\n",
      ". PUNCT .\n",
      "Taliban PROPN Taliban\n",
      "views NOUN view\n",
      "on ADP on\n",
      "personal ADJ personal\n",
      "dress NOUN dress\n",
      ", PUNCT ,\n",
      "female ADJ female\n",
      "education NOUN education\n",
      "and CCONJ and\n",
      "television NOUN television\n",
      "appear VERB appear\n",
      "to PART to\n",
      "have AUX have\n",
      "softened VERB soften\n",
      "considerably ADV considerably\n",
      ". PUNCT .\n",
      "” PUNCT \"\n",
      "\n",
      " SPACE \n",
      "\n"
     ]
    }
   ],
   "source": [
    "for token in doc:\n",
    "  print(token.text,token.pos_,token.lemma_)"
   ]
  },
  {
   "cell_type": "code",
   "execution_count": 7,
   "id": "a49a6e72",
   "metadata": {
    "execution": {
     "iopub.execute_input": "2022-01-08T17:49:05.715762Z",
     "iopub.status.busy": "2022-01-08T17:49:05.714926Z",
     "iopub.status.idle": "2022-01-08T17:49:05.716951Z",
     "shell.execute_reply": "2022-01-08T17:49:05.717394Z"
    },
    "id": "H9fQaE7FmhO8",
    "papermill": {
     "duration": 0.043959,
     "end_time": "2022-01-08T17:49:05.717559",
     "exception": false,
     "start_time": "2022-01-08T17:49:05.673600",
     "status": "completed"
    },
    "tags": []
   },
   "outputs": [],
   "source": [
    "tokens=[token.text for token in doc]"
   ]
  },
  {
   "cell_type": "code",
   "execution_count": 8,
   "id": "7e344715",
   "metadata": {
    "execution": {
     "iopub.execute_input": "2022-01-08T17:49:05.764093Z",
     "iopub.status.busy": "2022-01-08T17:49:05.763298Z",
     "iopub.status.idle": "2022-01-08T17:49:05.766770Z",
     "shell.execute_reply": "2022-01-08T17:49:05.767217Z"
    },
    "id": "vnI9Td-Dmorw",
    "outputId": "44a49c39-e57c-4077-defe-8e759af5e8bb",
    "papermill": {
     "duration": 0.029123,
     "end_time": "2022-01-08T17:49:05.767374",
     "exception": false,
     "start_time": "2022-01-08T17:49:05.738251",
     "status": "completed"
    },
    "tags": []
   },
   "outputs": [
    {
     "name": "stdout",
     "output_type": "stream",
     "text": [
      "['The', 'Taliban', 'takeover', 'of', 'Afghanistan', 'raises', 'the', 'question', ':', 'What', 'will', 'happen', 'to', 'Afghan', 'women', '?', 'One', 'needs', 'to', 'discuss', 'four', 'issues', 'for', 'an', 'answer', '—', 'the', 'status', 'of', 'Afghan', 'women', 'before', 'the', 'Taliban', 'captured', 'power', 'in', '1996', ',', 'during', 'their', 'regime', ',', 'what', 'they', 'regained', 'since', 'the', 'ouster', 'of', 'the', 'Taliban', ',', 'and', 'what', 'the', 'outfit', 'could', 'be', 'expected', 'to', 'do', 'on', 'its', 'return', '.', '\\n', 'As', 'to', 'the', 'first', ',', 'a', 'report', ',', '‘', 'Taliban', '’s', 'War', 'on', 'Women', ':', 'A', 'Health', 'and', 'Human', 'Rights', 'Crisis', 'in', 'Afghanistan', '’', 'by', 'the', 'Physicians', 'for', 'Human', 'Rights', ',', 'a', 'distinguished', 'human', 'rights', 'organisation', 'in', 'the', 'US', ',', 'states', 'that', 'before', 'the', 'Taliban', 'captured', 'Kabul', ',', 'women', 'accounted', 'for', '“', '70', 'per', 'cent', 'of', 'all', 'teachers', ',', 'about', '50', 'per', 'cent', 'of', 'civil', 'servants', 'and', '40', 'per', 'cent', 'of', 'medical', 'doctors', 'in', 'Afghanistan', '.', '”', '\\n', 'What', 'happened', 'during', 'Taliban', 'rule', '?', 'Kamal', 'Moinuddin', ',', 'a', 'retired', 'lieutenant', '-', 'general', 'of', 'the', 'Pakistan', 'Army', ',', 'puts', 'it', 'in', 'a', 'capsule', 'in', 'The', 'Taliban', 'Phenomenon', ':', 'Afghanistan', '1994', '-', '1997', ':', '“', 'Girls', 'are', 'being', 'denied', 'education', ';', 'women', 'have', 'been', 'prevented', 'from', 'working', ';', 'if', 'they', 'leave', 'their', 'house', ',', 'they', 'have', 'to', 'be', 'covered', 'from', 'head', 'to', 'foot', 'with', 'a', 'veil', '(', 'burqa', ')', ';', 'besides', 'being', 'veiled', ',', 'women', 'have', 'to', 'be', 'accompanied', 'by', 'a', 'male', 'relative', 'when', 'they', 'venture', 'out', 'in', 'the', 'streets', '.', 'Shopkeepers', 'have', 'been', 'directed', 'not', 'to', 'sell', 'goods', 'to', 'unveiled', 'women', '.', 'Rickshaw', 'drivers', 'are', 'not', 'to', 'pick', 'up', 'women', 'passengers', 'unless', 'they', 'are', 'fully', 'covered', '.', 'Women', 'caught', 'violating', 'these', 'rules', 'are', 'imprisoned', ',', 'as', 'are', 'the', 'shopkeeper', 'and', 'the', 'rickshaw', 'driver', '.', '”', '\\n', 'Must', 'Read', 'Opinions', 'It', 'is', 'time', 'to', 'end', 'judicial', 'feudalism', 'in', 'India', 'It', 'is', 'not', 'enough', 'to', 'protect', 'the', 'precincts', 'of', 'Sabarmati', 'Ashram', '\\n', 'Indians', 'have', 'great', 'trust', 'in', 'science', '.', 'So', 'why', 'is', 'pseudoscience', 'being', 'promoted', '?', 'Things', 'began', 'to', 'change', 'after', 'the', 'Taliban', 'were', 'ousted', 'from', 'power', 'following', 'the', 'US', '-', 'led', 'invasion', 'launched', 'in', 'October', '2001', '.', 'As', 'George', 'R', 'Allen', 'and', 'Vanda', 'Felbab', '-', 'Brown', 'state', 'in', 'their', 'paper', ',', '‘', 'Fate', 'of', 'Women', '’s', 'Rights', 'in', 'Afghanistan', '’', '—', 'a', 'part', 'of', 'Brookings', 'Institution', '’s', '19A', 'Gender', 'Equality', 'Series', '—', 'the', '2004', 'post', '-', 'Taliban', 'constitution', '“', 'gave', 'Afghan', 'women', 'all', 'kinds', 'of', 'rights', ',', 'and', 'the', 'post', '-', 'Taliban', 'political', 'dispensation', 'brought', 'social', 'and', 'economic', 'growth', 'that', 'significantly', 'improved', 'their', 'socio', '-', 'economic', 'condition', '”', '.', 'They', 'further', 'state', 'that', 'against', 'less', 'than', '10', 'in', '2003', ',', 'the', 'percentage', 'of', 'girls', 'enrolled', 'in', 'primary', 'schools', 'rose', 'to', '33', 'in', '2017', '.', 'Registered', 'female', 'enrolment', 'in', 'secondary', 'schools', 'rose', 'from', 'six', 'to', '39', 'per', 'cent', 'in', 'the', 'same', 'year', '.', 'Three', '-', 'and', '-', 'a', '-', 'half', 'million', 'Afghan', 'girls', 'were', 'in', 'school', 'with', '100,000', 'studying', 'in', 'universities', '.', 'They', 'add', ',', '“', 'By', '2020', ',', '21', 'per', 'cent', 'of', 'Afghan', 'civil', 'servants', 'were', 'women', '(', 'compared', 'with', 'none', 'under', 'the', 'Taliban', 'regime', ')', ',', '16', 'per', 'cent', 'of', 'them', 'were', 'in', 'senior', 'management', 'positions', ',', 'and', '27', 'per', 'cent', 'of', 'Afghan', 'members', 'of', 'Parliament', 'were', 'women', '.', '”', '\\n', 'According', 'to', 'Allen', 'and', 'Felbab', '-', 'Brown', ',', 'in', 'rural', 'Afghanistan', ',', 'where', '76', 'per', 'cent', 'of', 'Afghanistan', '’s', 'women', 'live', ',', 'life', 'has', 'not', 'changed', 'much', 'from', 'the', 'Taliban', 'era', ',', 'their', 'formal', 'legal', 'empowerment', 'notwithstanding', '.', 'Existence', 'of', 'rights', ',', 'and', 'their', 'utilisation', 'by', 'some', 'is', ',', 'however', ',', 'a', 'starting', 'point', '.', 'The', 'achievements', 'of', 'urban', 'Afghan', 'women', 'could', 'have', 'been', 'an', 'example', 'to', 'others', '.', 'Change', 'is', 'a', 'slow', 'process', 'in', 'history', ',', 'more', 'so', 'in', 'a', 'traditional', 'country', 'like', 'Afghanistan', '.', 'But', 'extinction', 'of', 'the', 'rights', 'Afghan', 'women', 'now', 'enjoy', 'will', 'reverse', 'the', 'process', '.', '\\n', 'This', 'brings', 'us', 'to', 'the', 'fourth', 'issue', '.', 'Some', 'hold', 'that', 'the', 'Taliban', 'would', 'moderate', 'their', 'hardline', 'views', 'on', 'women', 'in', 'their', 'second', 'coming', '.', 'Referring', 'to', 'the', 'Taliban', 'leaders', 'interviewed', 'for', 'their', 'project', ',', 'Borhan', 'Osman', 'and', 'Anand', 'Gopal', 'write', 'in', 'their', 'paper', ',', '‘', 'Taliban', 'Views', 'on', 'a', 'Future', 'State', '’', ',', '“', 'Most', 'respondents', 'agreed', 'that', 'the', 'Taliban', 'has', 'evolved', 'considerably', 'in', 'its', 'social', 'outlook', '.', 'They', 'attribute', 'this', 'to', 'the', 'changed', 'conditions', 'from', 'the', '1990s', ':', 'Many', 'Taliban', 'leaders', 'have', 'now', 'spent', 'over', 'a', 'decade', 'in', 'Pakistan', 'or', 'the', 'Gulf', ',', 'which', 'has', 'greatly', 'broadened', 'their', 'horizons', 'from', 'their', 'parochial', 'upbringings', 'in', 'southern', 'Afghanistan', '.', 'In', 'addition', ',', 'many', 'Taliban', 'leaders', 'have', 'since', '2001', 'completed', 'their', 'studies', 'and', 'engaged', 'with', 'the', 'broader', 'world', 'of', 'Islamist', 'discourse', ',', 'opening', 'their', 'perspective', 'to', 'new', 'interpretations', 'of', 'Islam', '.', 'For', 'this', 'reason', ',', 'respondents', 'now', 'judge', 'many', 'Taliban', 'edicts', 'of', 'the', '1990s', '—', 'such', 'as', 'those', 'enacted', 'by', 'the', 'notorious', 'Vice', 'and', 'Virtue', 'religious', 'police', ',', 'or', 'the', 'shuttering', 'of', 'girls', '’', 'schools', '—', 'as', 'too', 'harsh', 'or', 'inappropriate', 'for', 'today', '.', 'Taliban', 'views', 'on', 'personal', 'dress', ',', 'female', 'education', 'and', 'television', 'appear', 'to', 'have', 'softened', 'considerably', '.', '”', '\\n']\n"
     ]
    }
   ],
   "source": [
    "print(tokens)"
   ]
  },
  {
   "cell_type": "code",
   "execution_count": 9,
   "id": "ed6ccf46",
   "metadata": {
    "execution": {
     "iopub.execute_input": "2022-01-08T17:49:05.814366Z",
     "iopub.status.busy": "2022-01-08T17:49:05.813597Z",
     "iopub.status.idle": "2022-01-08T17:49:05.816601Z",
     "shell.execute_reply": "2022-01-08T17:49:05.817055Z"
    },
    "id": "KzzjxBdhm0Io",
    "outputId": "03822bd1-d1cd-4130-cc1b-4e56dc2102e0",
    "papermill": {
     "duration": 0.029007,
     "end_time": "2022-01-08T17:49:05.817218",
     "exception": false,
     "start_time": "2022-01-08T17:49:05.788211",
     "status": "completed"
    },
    "tags": []
   },
   "outputs": [
    {
     "data": {
      "text/plain": [
       "'!\"#$%&\\'()*+,-./:;<=>?@[\\\\]^_`{|}~'"
      ]
     },
     "execution_count": 9,
     "metadata": {},
     "output_type": "execute_result"
    }
   ],
   "source": [
    "punctuation"
   ]
  },
  {
   "cell_type": "code",
   "execution_count": 10,
   "id": "fbb000cf",
   "metadata": {
    "execution": {
     "iopub.execute_input": "2022-01-08T17:49:05.864100Z",
     "iopub.status.busy": "2022-01-08T17:49:05.863157Z",
     "iopub.status.idle": "2022-01-08T17:49:05.865375Z",
     "shell.execute_reply": "2022-01-08T17:49:05.865815Z"
    },
    "id": "VxOTVeHym0CU",
    "papermill": {
     "duration": 0.028136,
     "end_time": "2022-01-08T17:49:05.866004",
     "exception": false,
     "start_time": "2022-01-08T17:49:05.837868",
     "status": "completed"
    },
    "tags": []
   },
   "outputs": [],
   "source": [
    "punctuation=punctuation+'\\n'"
   ]
  },
  {
   "cell_type": "code",
   "execution_count": 11,
   "id": "a5fde365",
   "metadata": {
    "execution": {
     "iopub.execute_input": "2022-01-08T17:49:05.912618Z",
     "iopub.status.busy": "2022-01-08T17:49:05.911648Z",
     "iopub.status.idle": "2022-01-08T17:49:05.915245Z",
     "shell.execute_reply": "2022-01-08T17:49:05.915769Z"
    },
    "id": "iseejP1Km_Zb",
    "papermill": {
     "duration": 0.028942,
     "end_time": "2022-01-08T17:49:05.915961",
     "exception": false,
     "start_time": "2022-01-08T17:49:05.887019",
     "status": "completed"
    },
    "tags": []
   },
   "outputs": [],
   "source": [
    "stop_word=list(STOP_WORDS)"
   ]
  },
  {
   "cell_type": "code",
   "execution_count": 12,
   "id": "f7883070",
   "metadata": {
    "execution": {
     "iopub.execute_input": "2022-01-08T17:49:05.963648Z",
     "iopub.status.busy": "2022-01-08T17:49:05.962658Z",
     "iopub.status.idle": "2022-01-08T17:49:05.965974Z",
     "shell.execute_reply": "2022-01-08T17:49:05.966512Z"
    },
    "id": "THh6RRixnKzI",
    "papermill": {
     "duration": 0.029115,
     "end_time": "2022-01-08T17:49:05.966672",
     "exception": false,
     "start_time": "2022-01-08T17:49:05.937557",
     "status": "completed"
    },
    "tags": []
   },
   "outputs": [],
   "source": [
    "word_freq={}"
   ]
  },
  {
   "cell_type": "code",
   "execution_count": 13,
   "id": "3bc7bf57",
   "metadata": {
    "execution": {
     "iopub.execute_input": "2022-01-08T17:49:06.013766Z",
     "iopub.status.busy": "2022-01-08T17:49:06.012856Z",
     "iopub.status.idle": "2022-01-08T17:49:06.021156Z",
     "shell.execute_reply": "2022-01-08T17:49:06.021666Z"
    },
    "id": "ODeXCztmnS84",
    "papermill": {
     "duration": 0.033559,
     "end_time": "2022-01-08T17:49:06.021848",
     "exception": false,
     "start_time": "2022-01-08T17:49:05.988289",
     "status": "completed"
    },
    "tags": []
   },
   "outputs": [],
   "source": [
    "for word in doc:\n",
    "  if word.text.lower() not in stop_word:\n",
    "    if word.text.lower() not in punctuation:\n",
    "      if word.text not in word_freq:\n",
    "        word_freq[word.text]=1\n",
    "      else:\n",
    "        word_freq[word.text]+=1\n"
   ]
  },
  {
   "cell_type": "code",
   "execution_count": 14,
   "id": "4bfba505",
   "metadata": {
    "execution": {
     "iopub.execute_input": "2022-01-08T17:49:06.069286Z",
     "iopub.status.busy": "2022-01-08T17:49:06.068376Z",
     "iopub.status.idle": "2022-01-08T17:49:06.073296Z",
     "shell.execute_reply": "2022-01-08T17:49:06.073799Z"
    },
    "id": "6lXkqEMkqETF",
    "outputId": "98eb5796-e765-4008-f9eb-95371a3919c7",
    "papermill": {
     "duration": 0.029938,
     "end_time": "2022-01-08T17:49:06.073995",
     "exception": false,
     "start_time": "2022-01-08T17:49:06.044057",
     "status": "completed"
    },
    "tags": []
   },
   "outputs": [
    {
     "data": {
      "text/plain": [
       "dict_values([20, 1, 9, 1, 1, 1, 8, 14, 1, 1, 1, 1, 5, 1, 2, 2, 1, 2, 1, 1, 1, 1, 1, 1, 3, 1, 3, 1, 2, 3, 1, 4, 1, 1, 1, 4, 1, 1, 1, 1, 5, 1, 8, 1, 1, 2, 2, 1, 1, 1, 5, 1, 1, 1, 1, 1, 1, 1, 2, 1, 1, 1, 1, 1, 1, 1, 1, 2, 1, 1, 1, 1, 2, 1, 1, 1, 1, 1, 1, 1, 1, 1, 1, 1, 1, 1, 1, 1, 1, 1, 1, 1, 1, 1, 1, 1, 1, 1, 1, 1, 1, 1, 1, 1, 1, 1, 1, 1, 1, 1, 1, 1, 1, 1, 1, 1, 1, 1, 1, 1, 1, 1, 1, 1, 1, 1, 2, 1, 1, 2, 1, 2, 2, 2, 2, 1, 1, 1, 1, 1, 1, 1, 1, 2, 1, 1, 1, 1, 1, 1, 2, 2, 1, 1, 1, 1, 1, 1, 1, 1, 3, 1, 1, 3, 2, 1, 1, 1, 2, 1, 1, 1, 1, 1, 1, 1, 1, 1, 1, 1, 1, 1, 1, 1, 1, 1, 1, 1, 1, 1, 1, 1, 1, 1, 1, 2, 1, 1, 1, 1, 1, 1, 1, 1, 1, 1, 1, 1, 1, 1, 2, 1, 1, 1, 1, 1, 1, 1, 1, 1, 1, 1, 1, 1, 2, 1, 1, 1, 3, 1, 1, 1, 1, 1, 1, 1, 1, 1, 1, 2, 1, 1, 2, 1, 1, 1, 2, 1, 1, 1, 1, 1, 1, 1, 1, 1, 1, 1, 1, 1, 1, 1, 1, 1, 1, 1, 1, 1, 1, 1, 1, 1, 1, 1, 1, 1, 1, 1, 1, 1, 1, 1, 1, 1, 1, 1, 1])"
      ]
     },
     "execution_count": 14,
     "metadata": {},
     "output_type": "execute_result"
    }
   ],
   "source": [
    "word_freq.values()"
   ]
  },
  {
   "cell_type": "code",
   "execution_count": 15,
   "id": "11ffd3d7",
   "metadata": {
    "execution": {
     "iopub.execute_input": "2022-01-08T17:49:06.128512Z",
     "iopub.status.busy": "2022-01-08T17:49:06.127802Z",
     "iopub.status.idle": "2022-01-08T17:49:06.131203Z",
     "shell.execute_reply": "2022-01-08T17:49:06.130675Z"
    },
    "id": "AughQj1pqRh2",
    "outputId": "d86a9eef-a402-4e1f-f5bc-9e3b68c2ec94",
    "papermill": {
     "duration": 0.034413,
     "end_time": "2022-01-08T17:49:06.131346",
     "exception": false,
     "start_time": "2022-01-08T17:49:06.096933",
     "status": "completed"
    },
    "tags": []
   },
   "outputs": [
    {
     "data": {
      "text/plain": [
       "dict_keys(['Taliban', 'takeover', 'Afghanistan', 'raises', 'question', 'happen', 'Afghan', 'women', 'needs', 'discuss', 'issues', 'answer', '—', 'status', 'captured', 'power', '1996', 'regime', 'regained', 'ouster', 'outfit', 'expected', 'return', 'report', '‘', 'War', 'Women', 'Health', 'Human', 'Rights', 'Crisis', '’', 'Physicians', 'distinguished', 'human', 'rights', 'organisation', 'states', 'Kabul', 'accounted', '“', '70', 'cent', 'teachers', '50', 'civil', 'servants', '40', 'medical', 'doctors', '”', 'happened', 'rule', 'Kamal', 'Moinuddin', 'retired', 'lieutenant', 'general', 'Pakistan', 'Army', 'puts', 'capsule', 'Phenomenon', '1994', '1997', 'Girls', 'denied', 'education', 'prevented', 'working', 'leave', 'house', 'covered', 'head', 'foot', 'veil', 'burqa', 'veiled', 'accompanied', 'male', 'relative', 'venture', 'streets', 'Shopkeepers', 'directed', 'sell', 'goods', 'unveiled', 'Rickshaw', 'drivers', 'pick', 'passengers', 'fully', 'caught', 'violating', 'rules', 'imprisoned', 'shopkeeper', 'rickshaw', 'driver', 'Read', 'Opinions', 'time', 'end', 'judicial', 'feudalism', 'India', 'protect', 'precincts', 'Sabarmati', 'Ashram', 'Indians', 'great', 'trust', 'science', 'pseudoscience', 'promoted', 'Things', 'began', 'change', 'ousted', 'following', 'led', 'invasion', 'launched', 'October', '2001', 'George', 'R', 'Allen', 'Vanda', 'Felbab', 'Brown', 'state', 'paper', 'Fate', 'Brookings', 'Institution', '19A', 'Gender', 'Equality', 'Series', '2004', 'post', 'constitution', 'gave', 'kinds', 'political', 'dispensation', 'brought', 'social', 'economic', 'growth', 'significantly', 'improved', 'socio', 'condition', '10', '2003', 'percentage', 'girls', 'enrolled', 'primary', 'schools', 'rose', '33', '2017', 'Registered', 'female', 'enrolment', 'secondary', '39', 'year', 'half', 'million', 'school', '100,000', 'studying', 'universities', 'add', '2020', '21', 'compared', '16', 'senior', 'management', 'positions', '27', 'members', 'Parliament', 'According', 'rural', '76', 'live', 'life', 'changed', 'era', 'formal', 'legal', 'empowerment', 'notwithstanding', 'Existence', 'utilisation', 'starting', 'point', 'achievements', 'urban', 'example', 'Change', 'slow', 'process', 'history', 'traditional', 'country', 'like', 'extinction', 'enjoy', 'reverse', 'brings', 'fourth', 'issue', 'hold', 'moderate', 'hardline', 'views', 'second', 'coming', 'Referring', 'leaders', 'interviewed', 'project', 'Borhan', 'Osman', 'Anand', 'Gopal', 'write', 'Views', 'Future', 'State', 'respondents', 'agreed', 'evolved', 'considerably', 'outlook', 'attribute', 'conditions', '1990s', 'spent', 'decade', 'Gulf', 'greatly', 'broadened', 'horizons', 'parochial', 'upbringings', 'southern', 'addition', 'completed', 'studies', 'engaged', 'broader', 'world', 'Islamist', 'discourse', 'opening', 'perspective', 'new', 'interpretations', 'Islam', 'reason', 'judge', 'edicts', 'enacted', 'notorious', 'Vice', 'Virtue', 'religious', 'police', 'shuttering', 'harsh', 'inappropriate', 'today', 'personal', 'dress', 'television', 'appear', 'softened'])"
      ]
     },
     "execution_count": 15,
     "metadata": {},
     "output_type": "execute_result"
    }
   ],
   "source": [
    "word_freq.keys()"
   ]
  },
  {
   "cell_type": "code",
   "execution_count": 16,
   "id": "c4a427d5",
   "metadata": {
    "execution": {
     "iopub.execute_input": "2022-01-08T17:49:06.192192Z",
     "iopub.status.busy": "2022-01-08T17:49:06.191383Z",
     "iopub.status.idle": "2022-01-08T17:49:06.194083Z",
     "shell.execute_reply": "2022-01-08T17:49:06.194884Z"
    },
    "id": "RWmg7yZdq4c-",
    "outputId": "e9c451b4-c2f9-4aa2-bdcc-14cd5f011ed0",
    "papermill": {
     "duration": 0.039216,
     "end_time": "2022-01-08T17:49:06.195154",
     "exception": false,
     "start_time": "2022-01-08T17:49:06.155938",
     "status": "completed"
    },
    "tags": []
   },
   "outputs": [
    {
     "name": "stdout",
     "output_type": "stream",
     "text": [
      "20\n"
     ]
    }
   ],
   "source": [
    "# find out the word with max freq??\n",
    "max_freq=max(word_freq.values())\n",
    "print(max_freq)"
   ]
  },
  {
   "cell_type": "code",
   "execution_count": 17,
   "id": "b2edd151",
   "metadata": {
    "execution": {
     "iopub.execute_input": "2022-01-08T17:49:06.270539Z",
     "iopub.status.busy": "2022-01-08T17:49:06.266169Z",
     "iopub.status.idle": "2022-01-08T17:49:06.272021Z",
     "shell.execute_reply": "2022-01-08T17:49:06.272810Z"
    },
    "id": "XXk9S5bRrMyA",
    "papermill": {
     "duration": 0.041041,
     "end_time": "2022-01-08T17:49:06.273081",
     "exception": false,
     "start_time": "2022-01-08T17:49:06.232040",
     "status": "completed"
    },
    "tags": []
   },
   "outputs": [],
   "source": [
    "# scale the freq value\n",
    "for word in word_freq.keys():\n",
    "  word_freq[word]=word_freq[word]/max_freq"
   ]
  },
  {
   "cell_type": "code",
   "execution_count": 18,
   "id": "7d5deb22",
   "metadata": {
    "execution": {
     "iopub.execute_input": "2022-01-08T17:49:06.327023Z",
     "iopub.status.busy": "2022-01-08T17:49:06.326161Z",
     "iopub.status.idle": "2022-01-08T17:49:06.331463Z",
     "shell.execute_reply": "2022-01-08T17:49:06.331003Z"
    },
    "id": "3MGQJthlr0ye",
    "outputId": "f6c10003-bf78-4fc2-8ce4-91a15ddbbd81",
    "papermill": {
     "duration": 0.030473,
     "end_time": "2022-01-08T17:49:06.331591",
     "exception": false,
     "start_time": "2022-01-08T17:49:06.301118",
     "status": "completed"
    },
    "tags": []
   },
   "outputs": [
    {
     "name": "stdout",
     "output_type": "stream",
     "text": [
      "{'Taliban': 1.0, 'takeover': 0.05, 'Afghanistan': 0.45, 'raises': 0.05, 'question': 0.05, 'happen': 0.05, 'Afghan': 0.4, 'women': 0.7, 'needs': 0.05, 'discuss': 0.05, 'issues': 0.05, 'answer': 0.05, '—': 0.25, 'status': 0.05, 'captured': 0.1, 'power': 0.1, '1996': 0.05, 'regime': 0.1, 'regained': 0.05, 'ouster': 0.05, 'outfit': 0.05, 'expected': 0.05, 'return': 0.05, 'report': 0.05, '‘': 0.15, 'War': 0.05, 'Women': 0.15, 'Health': 0.05, 'Human': 0.1, 'Rights': 0.15, 'Crisis': 0.05, '’': 0.2, 'Physicians': 0.05, 'distinguished': 0.05, 'human': 0.05, 'rights': 0.2, 'organisation': 0.05, 'states': 0.05, 'Kabul': 0.05, 'accounted': 0.05, '“': 0.25, '70': 0.05, 'cent': 0.4, 'teachers': 0.05, '50': 0.05, 'civil': 0.1, 'servants': 0.1, '40': 0.05, 'medical': 0.05, 'doctors': 0.05, '”': 0.25, 'happened': 0.05, 'rule': 0.05, 'Kamal': 0.05, 'Moinuddin': 0.05, 'retired': 0.05, 'lieutenant': 0.05, 'general': 0.05, 'Pakistan': 0.1, 'Army': 0.05, 'puts': 0.05, 'capsule': 0.05, 'Phenomenon': 0.05, '1994': 0.05, '1997': 0.05, 'Girls': 0.05, 'denied': 0.05, 'education': 0.1, 'prevented': 0.05, 'working': 0.05, 'leave': 0.05, 'house': 0.05, 'covered': 0.1, 'head': 0.05, 'foot': 0.05, 'veil': 0.05, 'burqa': 0.05, 'veiled': 0.05, 'accompanied': 0.05, 'male': 0.05, 'relative': 0.05, 'venture': 0.05, 'streets': 0.05, 'Shopkeepers': 0.05, 'directed': 0.05, 'sell': 0.05, 'goods': 0.05, 'unveiled': 0.05, 'Rickshaw': 0.05, 'drivers': 0.05, 'pick': 0.05, 'passengers': 0.05, 'fully': 0.05, 'caught': 0.05, 'violating': 0.05, 'rules': 0.05, 'imprisoned': 0.05, 'shopkeeper': 0.05, 'rickshaw': 0.05, 'driver': 0.05, 'Read': 0.05, 'Opinions': 0.05, 'time': 0.05, 'end': 0.05, 'judicial': 0.05, 'feudalism': 0.05, 'India': 0.05, 'protect': 0.05, 'precincts': 0.05, 'Sabarmati': 0.05, 'Ashram': 0.05, 'Indians': 0.05, 'great': 0.05, 'trust': 0.05, 'science': 0.05, 'pseudoscience': 0.05, 'promoted': 0.05, 'Things': 0.05, 'began': 0.05, 'change': 0.05, 'ousted': 0.05, 'following': 0.05, 'led': 0.05, 'invasion': 0.05, 'launched': 0.05, 'October': 0.05, '2001': 0.1, 'George': 0.05, 'R': 0.05, 'Allen': 0.1, 'Vanda': 0.05, 'Felbab': 0.1, 'Brown': 0.1, 'state': 0.1, 'paper': 0.1, 'Fate': 0.05, 'Brookings': 0.05, 'Institution': 0.05, '19A': 0.05, 'Gender': 0.05, 'Equality': 0.05, 'Series': 0.05, '2004': 0.05, 'post': 0.1, 'constitution': 0.05, 'gave': 0.05, 'kinds': 0.05, 'political': 0.05, 'dispensation': 0.05, 'brought': 0.05, 'social': 0.1, 'economic': 0.1, 'growth': 0.05, 'significantly': 0.05, 'improved': 0.05, 'socio': 0.05, 'condition': 0.05, '10': 0.05, '2003': 0.05, 'percentage': 0.05, 'girls': 0.15, 'enrolled': 0.05, 'primary': 0.05, 'schools': 0.15, 'rose': 0.1, '33': 0.05, '2017': 0.05, 'Registered': 0.05, 'female': 0.1, 'enrolment': 0.05, 'secondary': 0.05, '39': 0.05, 'year': 0.05, 'half': 0.05, 'million': 0.05, 'school': 0.05, '100,000': 0.05, 'studying': 0.05, 'universities': 0.05, 'add': 0.05, '2020': 0.05, '21': 0.05, 'compared': 0.05, '16': 0.05, 'senior': 0.05, 'management': 0.05, 'positions': 0.05, '27': 0.05, 'members': 0.05, 'Parliament': 0.05, 'According': 0.05, 'rural': 0.05, '76': 0.05, 'live': 0.05, 'life': 0.05, 'changed': 0.1, 'era': 0.05, 'formal': 0.05, 'legal': 0.05, 'empowerment': 0.05, 'notwithstanding': 0.05, 'Existence': 0.05, 'utilisation': 0.05, 'starting': 0.05, 'point': 0.05, 'achievements': 0.05, 'urban': 0.05, 'example': 0.05, 'Change': 0.05, 'slow': 0.05, 'process': 0.1, 'history': 0.05, 'traditional': 0.05, 'country': 0.05, 'like': 0.05, 'extinction': 0.05, 'enjoy': 0.05, 'reverse': 0.05, 'brings': 0.05, 'fourth': 0.05, 'issue': 0.05, 'hold': 0.05, 'moderate': 0.05, 'hardline': 0.05, 'views': 0.1, 'second': 0.05, 'coming': 0.05, 'Referring': 0.05, 'leaders': 0.15, 'interviewed': 0.05, 'project': 0.05, 'Borhan': 0.05, 'Osman': 0.05, 'Anand': 0.05, 'Gopal': 0.05, 'write': 0.05, 'Views': 0.05, 'Future': 0.05, 'State': 0.05, 'respondents': 0.1, 'agreed': 0.05, 'evolved': 0.05, 'considerably': 0.1, 'outlook': 0.05, 'attribute': 0.05, 'conditions': 0.05, '1990s': 0.1, 'spent': 0.05, 'decade': 0.05, 'Gulf': 0.05, 'greatly': 0.05, 'broadened': 0.05, 'horizons': 0.05, 'parochial': 0.05, 'upbringings': 0.05, 'southern': 0.05, 'addition': 0.05, 'completed': 0.05, 'studies': 0.05, 'engaged': 0.05, 'broader': 0.05, 'world': 0.05, 'Islamist': 0.05, 'discourse': 0.05, 'opening': 0.05, 'perspective': 0.05, 'new': 0.05, 'interpretations': 0.05, 'Islam': 0.05, 'reason': 0.05, 'judge': 0.05, 'edicts': 0.05, 'enacted': 0.05, 'notorious': 0.05, 'Vice': 0.05, 'Virtue': 0.05, 'religious': 0.05, 'police': 0.05, 'shuttering': 0.05, 'harsh': 0.05, 'inappropriate': 0.05, 'today': 0.05, 'personal': 0.05, 'dress': 0.05, 'television': 0.05, 'appear': 0.05, 'softened': 0.05}\n"
     ]
    }
   ],
   "source": [
    "print(word_freq)"
   ]
  },
  {
   "cell_type": "code",
   "execution_count": 19,
   "id": "d41a7132",
   "metadata": {
    "execution": {
     "iopub.execute_input": "2022-01-08T17:49:06.381988Z",
     "iopub.status.busy": "2022-01-08T17:49:06.381100Z",
     "iopub.status.idle": "2022-01-08T17:49:06.386397Z",
     "shell.execute_reply": "2022-01-08T17:49:06.386990Z"
    },
    "id": "cEeO8IxLr456",
    "papermill": {
     "duration": 0.031727,
     "end_time": "2022-01-08T17:49:06.387183",
     "exception": false,
     "start_time": "2022-01-08T17:49:06.355456",
     "status": "completed"
    },
    "tags": []
   },
   "outputs": [],
   "source": [
    "# find the sentence score\n",
    "# sentence tokenizaton\n",
    "sent_tokens=[sent for sent in doc.sents]"
   ]
  },
  {
   "cell_type": "code",
   "execution_count": 20,
   "id": "fa4191ae",
   "metadata": {
    "execution": {
     "iopub.execute_input": "2022-01-08T17:49:06.438541Z",
     "iopub.status.busy": "2022-01-08T17:49:06.437924Z",
     "iopub.status.idle": "2022-01-08T17:49:06.443626Z",
     "shell.execute_reply": "2022-01-08T17:49:06.442845Z"
    },
    "id": "vXDoQvurscZh",
    "outputId": "2ab9ae96-dfdb-4bee-b930-d63350cb0047",
    "papermill": {
     "duration": 0.032383,
     "end_time": "2022-01-08T17:49:06.443836",
     "exception": false,
     "start_time": "2022-01-08T17:49:06.411453",
     "status": "completed"
    },
    "tags": []
   },
   "outputs": [
    {
     "name": "stdout",
     "output_type": "stream",
     "text": [
      "[The Taliban takeover of Afghanistan raises the question: What will happen to Afghan women?, One needs to discuss four issues for an answer — the status of Afghan women before the Taliban captured power in 1996, during their regime, what they regained since the ouster of the Taliban, and what the outfit could be expected to do on its return., \n",
      ", As to the first, a report, ‘Taliban’s War on Women: A Health and Human Rights Crisis in Afghanistan’ by the Physicians for Human Rights, a distinguished human rights organisation in the US, states that before the Taliban captured Kabul, women accounted for “70 per cent of all teachers, about 50 per cent of civil servants and 40 per cent of medical doctors in Afghanistan.”, \n",
      "What happened during Taliban rule?, Kamal Moinuddin, a retired lieutenant-general of the Pakistan Army, puts it in a capsule in The Taliban Phenomenon: Afghanistan 1994-1997: “Girls are being denied education; women have been prevented from working; if they leave their house, they have to be covered from head to foot with a veil (burqa); besides being veiled, women have to be accompanied by a male relative when they venture out in the streets., Shopkeepers have been directed not to sell goods to unveiled women., Rickshaw drivers are not to pick up women passengers unless they are fully covered., Women caught violating these rules are imprisoned, as are the shopkeeper and the rickshaw driver.”, \n",
      "Must Read Opinions It is time to end judicial feudalism in India It is not enough to protect the precincts of Sabarmati Ashram\n",
      "Indians have great trust in science., So why is pseudoscience being promoted?, Things began to change after the Taliban were ousted from power following the US-led invasion launched in October 2001., As George R Allen and Vanda Felbab-Brown state in their paper, ‘Fate of Women’s Rights in Afghanistan’ — a part of Brookings Institution’s 19A Gender Equality Series — the 2004 post-Taliban constitution “gave Afghan women all kinds of rights, and the post-Taliban political dispensation brought social and economic growth that significantly improved their socio-economic condition”., They further state that against less than 10 in 2003, the percentage of girls enrolled in primary schools rose to 33 in 2017., Registered female enrolment in secondary schools rose from six to 39 per cent in the same year., Three-and-a-half million Afghan girls were in school with 100,000 studying in universities., They add, “By 2020, 21 per cent of Afghan civil servants were women (compared with none under the Taliban regime), 16 per cent of them were in senior management positions, and 27 per cent of Afghan members of Parliament were women.”, \n",
      ", According to Allen and Felbab-Brown, in rural Afghanistan, where 76 per cent of Afghanistan’s women live, life has not changed much from the Taliban era, their formal legal empowerment notwithstanding., Existence of rights, and their utilisation by some is, however, a starting point., The achievements of urban Afghan women could have been an example to others., Change is a slow process in history, more so in a traditional country like Afghanistan., But extinction of the rights Afghan women now enjoy will reverse the process., \n",
      ", This brings us to the fourth issue., Some hold that the Taliban would moderate their hardline views on women in their second coming., Referring to the Taliban leaders interviewed for their project, Borhan Osman and Anand Gopal write in their paper, ‘Taliban Views on a Future State’, “Most respondents agreed that the Taliban has evolved considerably in its social outlook., They attribute this to the changed conditions from the 1990s:, Many Taliban leaders have now spent over a decade in Pakistan or the Gulf, which has greatly broadened their horizons from their parochial upbringings in southern Afghanistan., In addition, many Taliban leaders have since 2001 completed their studies and engaged with the broader world of Islamist discourse, opening their perspective to new interpretations of Islam., For this reason, respondents now judge many Taliban edicts of the 1990s — such as those enacted by the notorious Vice and Virtue religious police, or the shuttering of girls’ schools — as too harsh or inappropriate for today., Taliban views on personal dress, female education and television appear to have softened considerably.”, \n",
      "]\n"
     ]
    }
   ],
   "source": [
    "print(sent_tokens)"
   ]
  },
  {
   "cell_type": "code",
   "execution_count": 21,
   "id": "d818be82",
   "metadata": {
    "execution": {
     "iopub.execute_input": "2022-01-08T17:49:06.496967Z",
     "iopub.status.busy": "2022-01-08T17:49:06.496358Z",
     "iopub.status.idle": "2022-01-08T17:49:06.500297Z",
     "shell.execute_reply": "2022-01-08T17:49:06.500755Z"
    },
    "id": "IraIlGURsh8W",
    "outputId": "fea7acd2-ba03-471d-f935-9b9fb2105e7f",
    "papermill": {
     "duration": 0.031706,
     "end_time": "2022-01-08T17:49:06.500930",
     "exception": false,
     "start_time": "2022-01-08T17:49:06.469224",
     "status": "completed"
    },
    "tags": []
   },
   "outputs": [
    {
     "data": {
      "text/plain": [
       "33"
      ]
     },
     "execution_count": 21,
     "metadata": {},
     "output_type": "execute_result"
    }
   ],
   "source": [
    "len(sent_tokens)"
   ]
  },
  {
   "cell_type": "code",
   "execution_count": 22,
   "id": "3a7027fd",
   "metadata": {
    "execution": {
     "iopub.execute_input": "2022-01-08T17:49:06.552976Z",
     "iopub.status.busy": "2022-01-08T17:49:06.552049Z",
     "iopub.status.idle": "2022-01-08T17:49:06.558077Z",
     "shell.execute_reply": "2022-01-08T17:49:06.558488Z"
    },
    "id": "YnkYA9VgtBdo",
    "papermill": {
     "duration": 0.033792,
     "end_time": "2022-01-08T17:49:06.558658",
     "exception": false,
     "start_time": "2022-01-08T17:49:06.524866",
     "status": "completed"
    },
    "tags": []
   },
   "outputs": [],
   "source": [
    "sent_score={}\n",
    "for sent in sent_tokens:\n",
    "  for word in sent:\n",
    "    if word.text.lower() in word_freq.keys():\n",
    "      if sent not in sent_score.keys():\n",
    "        sent_score[sent]=word_freq[word.text.lower()]\n",
    "      else:\n",
    "        sent_score[sent]+=word_freq[word.text.lower()]"
   ]
  },
  {
   "cell_type": "code",
   "execution_count": 23,
   "id": "89a63591",
   "metadata": {
    "execution": {
     "iopub.execute_input": "2022-01-08T17:49:06.610494Z",
     "iopub.status.busy": "2022-01-08T17:49:06.609892Z",
     "iopub.status.idle": "2022-01-08T17:49:06.615263Z",
     "shell.execute_reply": "2022-01-08T17:49:06.614778Z"
    },
    "id": "YEA93yfFuldJ",
    "outputId": "9730c4e2-123e-4024-e4b5-b3f2c722da7d",
    "papermill": {
     "duration": 0.03272,
     "end_time": "2022-01-08T17:49:06.615409",
     "exception": false,
     "start_time": "2022-01-08T17:49:06.582689",
     "status": "completed"
    },
    "tags": []
   },
   "outputs": [
    {
     "name": "stdout",
     "output_type": "stream",
     "text": [
      "{The Taliban takeover of Afghanistan raises the question: What will happen to Afghan women?: 0.8999999999999999, One needs to discuss four issues for an answer — the status of Afghan women before the Taliban captured power in 1996, during their regime, what they regained since the ouster of the Taliban, and what the outfit could be expected to do on its return.: 1.8000000000000005, As to the first, a report, ‘Taliban’s War on Women: A Health and Human Rights Crisis in Afghanistan’ by the Physicians for Human Rights, a distinguished human rights organisation in the US, states that before the Taliban captured Kabul, women accounted for “70 per cent of all teachers, about 50 per cent of civil servants and 40 per cent of medical doctors in Afghanistan.”: 5.049999999999998, \n",
      "What happened during Taliban rule?: 0.1, Kamal Moinuddin, a retired lieutenant-general of the Pakistan Army, puts it in a capsule in The Taliban Phenomenon: Afghanistan 1994-1997: “Girls are being denied education; women have been prevented from working; if they leave their house, they have to be covered from head to foot with a veil (burqa); besides being veiled, women have to be accompanied by a male relative when they venture out in the streets.: 3.0999999999999988, Shopkeepers have been directed not to sell goods to unveiled women.: 0.8999999999999999, Rickshaw drivers are not to pick up women passengers unless they are fully covered.: 1.05, Women caught violating these rules are imprisoned, as are the shopkeeper and the rickshaw driver.”: 1.3000000000000003, \n",
      "Must Read Opinions It is time to end judicial feudalism in India It is not enough to protect the precincts of Sabarmati Ashram\n",
      "Indians have great trust in science.: 0.44999999999999996, So why is pseudoscience being promoted?: 0.1, Things began to change after the Taliban were ousted from power following the US-led invasion launched in October 2001.: 0.5499999999999999, As George R Allen and Vanda Felbab-Brown state in their paper, ‘Fate of Women’s Rights in Afghanistan’ — a part of Brookings Institution’s 19A Gender Equality Series — the 2004 post-Taliban constitution “gave Afghan women all kinds of rights, and the post-Taliban political dispensation brought social and economic growth that significantly improved their socio-economic condition”.: 4.449999999999998, They further state that against less than 10 in 2003, the percentage of girls enrolled in primary schools rose to 33 in 2017.: 0.8500000000000001, Registered female enrolment in secondary schools rose from six to 39 per cent in the same year.: 0.95, Three-and-a-half million Afghan girls were in school with 100,000 studying in universities.: 0.44999999999999996, They add, “By 2020, 21 per cent of Afghan civil servants were women (compared with none under the Taliban regime), 16 per cent of them were in senior management positions, and 27 per cent of Afghan members of Parliament were women.”: 3.8999999999999995, According to Allen and Felbab-Brown, in rural Afghanistan, where 76 per cent of Afghanistan’s women live, life has not changed much from the Taliban era, their formal legal empowerment notwithstanding.: 1.6500000000000004, Existence of rights, and their utilisation by some is, however, a starting point.: 0.35, The achievements of urban Afghan women could have been an example to others.: 0.85, Change is a slow process in history, more so in a traditional country like Afghanistan.: 0.39999999999999997, But extinction of the rights Afghan women now enjoy will reverse the process.: 1.1500000000000001, This brings us to the fourth issue.: 0.15000000000000002, Some hold that the Taliban would moderate their hardline views on women in their second coming.: 1.05, Referring to the Taliban leaders interviewed for their project, Borhan Osman and Anand Gopal write in their paper, ‘Taliban Views on a Future State’, “Most respondents agreed that the Taliban has evolved considerably in its social outlook.: 1.6500000000000004, They attribute this to the changed conditions from the 1990s:: 0.30000000000000004, Many Taliban leaders have now spent over a decade in Pakistan or the Gulf, which has greatly broadened their horizons from their parochial upbringings in southern Afghanistan.: 0.5499999999999999, In addition, many Taliban leaders have since 2001 completed their studies and engaged with the broader world of Islamist discourse, opening their perspective to new interpretations of Islam.: 0.8000000000000003, For this reason, respondents now judge many Taliban edicts of the 1990s — such as those enacted by the notorious Vice and Virtue religious police, or the shuttering of girls’ schools — as too harsh or inappropriate for today.: 1.7500000000000002, Taliban views on personal dress, female education and television appear to have softened considerably.”: 0.9}\n"
     ]
    }
   ],
   "source": [
    "print(sent_score)"
   ]
  },
  {
   "cell_type": "code",
   "execution_count": 24,
   "id": "6395e15f",
   "metadata": {
    "execution": {
     "iopub.execute_input": "2022-01-08T17:49:06.670115Z",
     "iopub.status.busy": "2022-01-08T17:49:06.669510Z",
     "iopub.status.idle": "2022-01-08T17:49:06.673517Z",
     "shell.execute_reply": "2022-01-08T17:49:06.673956Z"
    },
    "id": "l6i7WJvxvDeW",
    "outputId": "7c656458-9bbc-48b7-b370-8e873c59160c",
    "papermill": {
     "duration": 0.033478,
     "end_time": "2022-01-08T17:49:06.674115",
     "exception": false,
     "start_time": "2022-01-08T17:49:06.640637",
     "status": "completed"
    },
    "tags": []
   },
   "outputs": [
    {
     "data": {
      "text/plain": [
       "8.7"
      ]
     },
     "execution_count": 24,
     "metadata": {},
     "output_type": "execute_result"
    }
   ],
   "source": [
    "len(sent_score)*0.3"
   ]
  },
  {
   "cell_type": "code",
   "execution_count": 25,
   "id": "655401d3",
   "metadata": {
    "execution": {
     "iopub.execute_input": "2022-01-08T17:49:06.727754Z",
     "iopub.status.busy": "2022-01-08T17:49:06.727154Z",
     "iopub.status.idle": "2022-01-08T17:49:06.730180Z",
     "shell.execute_reply": "2022-01-08T17:49:06.730576Z"
    },
    "id": "fPqnpyG7vZX7",
    "papermill": {
     "duration": 0.03146,
     "end_time": "2022-01-08T17:49:06.730742",
     "exception": false,
     "start_time": "2022-01-08T17:49:06.699282",
     "status": "completed"
    },
    "tags": []
   },
   "outputs": [],
   "source": [
    "import heapq"
   ]
  },
  {
   "cell_type": "code",
   "execution_count": 26,
   "id": "8114c3ff",
   "metadata": {
    "execution": {
     "iopub.execute_input": "2022-01-08T17:49:06.784003Z",
     "iopub.status.busy": "2022-01-08T17:49:06.783286Z",
     "iopub.status.idle": "2022-01-08T17:49:06.788287Z",
     "shell.execute_reply": "2022-01-08T17:49:06.787666Z"
    },
    "id": "aElPmZMPvhnz",
    "papermill": {
     "duration": 0.032686,
     "end_time": "2022-01-08T17:49:06.788424",
     "exception": false,
     "start_time": "2022-01-08T17:49:06.755738",
     "status": "completed"
    },
    "tags": []
   },
   "outputs": [],
   "source": [
    "from heapq import nlargest"
   ]
  },
  {
   "cell_type": "code",
   "execution_count": 27,
   "id": "d2717ddb",
   "metadata": {
    "execution": {
     "iopub.execute_input": "2022-01-08T17:49:06.843638Z",
     "iopub.status.busy": "2022-01-08T17:49:06.843082Z",
     "iopub.status.idle": "2022-01-08T17:49:06.845341Z",
     "shell.execute_reply": "2022-01-08T17:49:06.845775Z"
    },
    "id": "eV1iMEBJvnTr",
    "papermill": {
     "duration": 0.03191,
     "end_time": "2022-01-08T17:49:06.845964",
     "exception": false,
     "start_time": "2022-01-08T17:49:06.814054",
     "status": "completed"
    },
    "tags": []
   },
   "outputs": [],
   "source": [
    "summary=nlargest(n=3,iterable=sent_score,key=sent_score.get)"
   ]
  },
  {
   "cell_type": "code",
   "execution_count": 28,
   "id": "5b7a1540",
   "metadata": {
    "execution": {
     "iopub.execute_input": "2022-01-08T17:49:06.899941Z",
     "iopub.status.busy": "2022-01-08T17:49:06.899358Z",
     "iopub.status.idle": "2022-01-08T17:49:06.904238Z",
     "shell.execute_reply": "2022-01-08T17:49:06.905075Z"
    },
    "id": "r60dYZTXvmWC",
    "outputId": "18b032ae-0f41-45e9-9e10-3947b02635aa",
    "papermill": {
     "duration": 0.033988,
     "end_time": "2022-01-08T17:49:06.905299",
     "exception": false,
     "start_time": "2022-01-08T17:49:06.871311",
     "status": "completed"
    },
    "tags": []
   },
   "outputs": [
    {
     "name": "stdout",
     "output_type": "stream",
     "text": [
      "[As to the first, a report, ‘Taliban’s War on Women: A Health and Human Rights Crisis in Afghanistan’ by the Physicians for Human Rights, a distinguished human rights organisation in the US, states that before the Taliban captured Kabul, women accounted for “70 per cent of all teachers, about 50 per cent of civil servants and 40 per cent of medical doctors in Afghanistan.”, As George R Allen and Vanda Felbab-Brown state in their paper, ‘Fate of Women’s Rights in Afghanistan’ — a part of Brookings Institution’s 19A Gender Equality Series — the 2004 post-Taliban constitution “gave Afghan women all kinds of rights, and the post-Taliban political dispensation brought social and economic growth that significantly improved their socio-economic condition”., They add, “By 2020, 21 per cent of Afghan civil servants were women (compared with none under the Taliban regime), 16 per cent of them were in senior management positions, and 27 per cent of Afghan members of Parliament were women.”]\n"
     ]
    }
   ],
   "source": [
    "print(summary)"
   ]
  },
  {
   "cell_type": "code",
   "execution_count": 29,
   "id": "141b70f0",
   "metadata": {
    "execution": {
     "iopub.execute_input": "2022-01-08T17:49:06.961881Z",
     "iopub.status.busy": "2022-01-08T17:49:06.960815Z",
     "iopub.status.idle": "2022-01-08T17:49:06.967122Z",
     "shell.execute_reply": "2022-01-08T17:49:06.967572Z"
    },
    "id": "Z3HxmBcSwliQ",
    "outputId": "5d7a15a4-fd18-4d5e-9d6e-c7f9c01628e8",
    "papermill": {
     "duration": 0.035738,
     "end_time": "2022-01-08T17:49:06.967743",
     "exception": false,
     "start_time": "2022-01-08T17:49:06.932005",
     "status": "completed"
    },
    "tags": []
   },
   "outputs": [
    {
     "data": {
      "text/plain": [
       "['As to the first, a report, ‘Taliban’s War on Women: A Health and Human Rights Crisis in Afghanistan’ by the Physicians for Human Rights, a distinguished human rights organisation in the US, states that before the Taliban captured Kabul, women accounted for “70 per cent of all teachers, about 50 per cent of civil servants and 40 per cent of medical doctors in Afghanistan.”',\n",
       " 'As George R Allen and Vanda Felbab-Brown state in their paper, ‘Fate of Women’s Rights in Afghanistan’ — a part of Brookings Institution’s 19A Gender Equality Series — the 2004 post-Taliban constitution “gave Afghan women all kinds of rights, and the post-Taliban political dispensation brought social and economic growth that significantly improved their socio-economic condition”.',\n",
       " 'They add, “By 2020, 21 per cent of Afghan civil servants were women (compared with none under the Taliban regime), 16 per cent of them were in senior management positions, and 27 per cent of Afghan members of Parliament were women.”']"
      ]
     },
     "execution_count": 29,
     "metadata": {},
     "output_type": "execute_result"
    }
   ],
   "source": [
    "final_summary=[word.text for word in summary]\n",
    "final_summary"
   ]
  },
  {
   "cell_type": "code",
   "execution_count": 30,
   "id": "6fd4d619",
   "metadata": {
    "execution": {
     "iopub.execute_input": "2022-01-08T17:49:07.028136Z",
     "iopub.status.busy": "2022-01-08T17:49:07.027415Z",
     "iopub.status.idle": "2022-01-08T17:49:07.030125Z",
     "shell.execute_reply": "2022-01-08T17:49:07.030561Z"
    },
    "id": "_CocTMqOw1W9",
    "outputId": "179f601b-a79b-4f63-c124-1e6ea815420b",
    "papermill": {
     "duration": 0.035521,
     "end_time": "2022-01-08T17:49:07.030720",
     "exception": false,
     "start_time": "2022-01-08T17:49:06.995199",
     "status": "completed"
    },
    "tags": []
   },
   "outputs": [
    {
     "data": {
      "text/plain": [
       "3"
      ]
     },
     "execution_count": 30,
     "metadata": {},
     "output_type": "execute_result"
    }
   ],
   "source": [
    "len(final_summary)"
   ]
  },
  {
   "cell_type": "code",
   "execution_count": 31,
   "id": "bc57b1b8",
   "metadata": {
    "execution": {
     "iopub.execute_input": "2022-01-08T17:49:07.089403Z",
     "iopub.status.busy": "2022-01-08T17:49:07.088690Z",
     "iopub.status.idle": "2022-01-08T17:49:07.091444Z",
     "shell.execute_reply": "2022-01-08T17:49:07.090977Z"
    },
    "id": "8qKtxzyow5pH",
    "papermill": {
     "duration": 0.033869,
     "end_time": "2022-01-08T17:49:07.091585",
     "exception": false,
     "start_time": "2022-01-08T17:49:07.057716",
     "status": "completed"
    },
    "tags": []
   },
   "outputs": [],
   "source": [
    "summary=\" \".join(final_summary)"
   ]
  },
  {
   "cell_type": "code",
   "execution_count": 32,
   "id": "47122fef",
   "metadata": {
    "execution": {
     "iopub.execute_input": "2022-01-08T17:49:07.150095Z",
     "iopub.status.busy": "2022-01-08T17:49:07.149319Z",
     "iopub.status.idle": "2022-01-08T17:49:07.152196Z",
     "shell.execute_reply": "2022-01-08T17:49:07.152642Z"
    },
    "id": "lM8EKkGQxK8W",
    "outputId": "3c7fe46a-ccee-4658-aabd-344753804c55",
    "papermill": {
     "duration": 0.034501,
     "end_time": "2022-01-08T17:49:07.152795",
     "exception": false,
     "start_time": "2022-01-08T17:49:07.118294",
     "status": "completed"
    },
    "tags": []
   },
   "outputs": [
    {
     "data": {
      "text/plain": [
       "990"
      ]
     },
     "execution_count": 32,
     "metadata": {},
     "output_type": "execute_result"
    }
   ],
   "source": [
    "len(summary)"
   ]
  },
  {
   "cell_type": "code",
   "execution_count": 33,
   "id": "686e8c20",
   "metadata": {
    "execution": {
     "iopub.execute_input": "2022-01-08T17:49:07.211482Z",
     "iopub.status.busy": "2022-01-08T17:49:07.209700Z",
     "iopub.status.idle": "2022-01-08T17:49:07.214289Z",
     "shell.execute_reply": "2022-01-08T17:49:07.214743Z"
    },
    "id": "zMgHXQJ5xRH7",
    "outputId": "d239605d-c933-4ad6-8166-8bbc6402f4f5",
    "papermill": {
     "duration": 0.034954,
     "end_time": "2022-01-08T17:49:07.214921",
     "exception": false,
     "start_time": "2022-01-08T17:49:07.179967",
     "status": "completed"
    },
    "tags": []
   },
   "outputs": [
    {
     "data": {
      "text/plain": [
       "4327"
      ]
     },
     "execution_count": 33,
     "metadata": {},
     "output_type": "execute_result"
    }
   ],
   "source": [
    "len(text)"
   ]
  },
  {
   "cell_type": "code",
   "execution_count": 34,
   "id": "45933339",
   "metadata": {
    "execution": {
     "iopub.execute_input": "2022-01-08T17:49:07.272316Z",
     "iopub.status.busy": "2022-01-08T17:49:07.271740Z",
     "iopub.status.idle": "2022-01-08T17:49:07.276342Z",
     "shell.execute_reply": "2022-01-08T17:49:07.276778Z"
    },
    "id": "pZIvOaVHxfi9",
    "outputId": "04a410d0-e4f0-43c3-9bb9-cabf88e968a5",
    "papermill": {
     "duration": 0.034828,
     "end_time": "2022-01-08T17:49:07.276980",
     "exception": false,
     "start_time": "2022-01-08T17:49:07.242152",
     "status": "completed"
    },
    "tags": []
   },
   "outputs": [
    {
     "name": "stdout",
     "output_type": "stream",
     "text": [
      "The Taliban takeover of Afghanistan raises the question: What will happen to Afghan women? One needs to discuss four issues for an answer — the status of Afghan women before the Taliban captured power in 1996, during their regime, what they regained since the ouster of the Taliban, and what the outfit could be expected to do on its return.\n",
      "As to the first, a report, ‘Taliban’s War on Women: A Health and Human Rights Crisis in Afghanistan’ by the Physicians for Human Rights, a distinguished human rights organisation in the US, states that before the Taliban captured Kabul, women accounted for “70 per cent of all teachers, about 50 per cent of civil servants and 40 per cent of medical doctors in Afghanistan.”\n",
      "What happened during Taliban rule? Kamal Moinuddin, a retired lieutenant-general of the Pakistan Army, puts it in a capsule in The Taliban Phenomenon: Afghanistan 1994-1997: “Girls are being denied education; women have been prevented from working; if they leave their house, they have to be covered from head to foot with a veil (burqa); besides being veiled, women have to be accompanied by a male relative when they venture out in the streets. Shopkeepers have been directed not to sell goods to unveiled women. Rickshaw drivers are not to pick up women passengers unless they are fully covered. Women caught violating these rules are imprisoned, as are the shopkeeper and the rickshaw driver.”\n",
      "Must Read Opinions It is time to end judicial feudalism in India It is not enough to protect the precincts of Sabarmati Ashram\n",
      "Indians have great trust in science. So why is pseudoscience being promoted? Things began to change after the Taliban were ousted from power following the US-led invasion launched in October 2001. As George R Allen and Vanda Felbab-Brown state in their paper, ‘Fate of Women’s Rights in Afghanistan’ — a part of Brookings Institution’s 19A Gender Equality Series — the 2004 post-Taliban constitution “gave Afghan women all kinds of rights, and the post-Taliban political dispensation brought social and economic growth that significantly improved their socio-economic condition”. They further state that against less than 10 in 2003, the percentage of girls enrolled in primary schools rose to 33 in 2017. Registered female enrolment in secondary schools rose from six to 39 per cent in the same year. Three-and-a-half million Afghan girls were in school with 100,000 studying in universities. They add, “By 2020, 21 per cent of Afghan civil servants were women (compared with none under the Taliban regime), 16 per cent of them were in senior management positions, and 27 per cent of Afghan members of Parliament were women.”\n",
      "According to Allen and Felbab-Brown, in rural Afghanistan, where 76 per cent of Afghanistan’s women live, life has not changed much from the Taliban era, their formal legal empowerment notwithstanding. Existence of rights, and their utilisation by some is, however, a starting point. The achievements of urban Afghan women could have been an example to others. Change is a slow process in history, more so in a traditional country like Afghanistan. But extinction of the rights Afghan women now enjoy will reverse the process.\n",
      "This brings us to the fourth issue. Some hold that the Taliban would moderate their hardline views on women in their second coming. Referring to the Taliban leaders interviewed for their project, Borhan Osman and Anand Gopal write in their paper, ‘Taliban Views on a Future State’, “Most respondents agreed that the Taliban has evolved considerably in its social outlook. They attribute this to the changed conditions from the 1990s: Many Taliban leaders have now spent over a decade in Pakistan or the Gulf, which has greatly broadened their horizons from their parochial upbringings in southern Afghanistan. In addition, many Taliban leaders have since 2001 completed their studies and engaged with the broader world of Islamist discourse, opening their perspective to new interpretations of Islam. For this reason, respondents now judge many Taliban edicts of the 1990s — such as those enacted by the notorious Vice and Virtue religious police, or the shuttering of girls’ schools — as too harsh or inappropriate for today. Taliban views on personal dress, female education and television appear to have softened considerably.”\n",
      "\n"
     ]
    }
   ],
   "source": [
    "print(text)"
   ]
  },
  {
   "cell_type": "code",
   "execution_count": 35,
   "id": "d1de404b",
   "metadata": {
    "execution": {
     "iopub.execute_input": "2022-01-08T17:49:07.335342Z",
     "iopub.status.busy": "2022-01-08T17:49:07.334726Z",
     "iopub.status.idle": "2022-01-08T17:49:07.339880Z",
     "shell.execute_reply": "2022-01-08T17:49:07.340298Z"
    },
    "id": "qwTb-3XRxlHM",
    "outputId": "e1ec7886-6e86-495c-8e5e-1fca6689dd52",
    "papermill": {
     "duration": 0.035836,
     "end_time": "2022-01-08T17:49:07.340462",
     "exception": false,
     "start_time": "2022-01-08T17:49:07.304626",
     "status": "completed"
    },
    "tags": []
   },
   "outputs": [
    {
     "name": "stdout",
     "output_type": "stream",
     "text": [
      "As to the first, a report, ‘Taliban’s War on Women: A Health and Human Rights Crisis in Afghanistan’ by the Physicians for Human Rights, a distinguished human rights organisation in the US, states that before the Taliban captured Kabul, women accounted for “70 per cent of all teachers, about 50 per cent of civil servants and 40 per cent of medical doctors in Afghanistan.” As George R Allen and Vanda Felbab-Brown state in their paper, ‘Fate of Women’s Rights in Afghanistan’ — a part of Brookings Institution’s 19A Gender Equality Series — the 2004 post-Taliban constitution “gave Afghan women all kinds of rights, and the post-Taliban political dispensation brought social and economic growth that significantly improved their socio-economic condition”. They add, “By 2020, 21 per cent of Afghan civil servants were women (compared with none under the Taliban regime), 16 per cent of them were in senior management positions, and 27 per cent of Afghan members of Parliament were women.”\n"
     ]
    }
   ],
   "source": [
    "print(summary)"
   ]
  },
  {
   "cell_type": "code",
   "execution_count": 36,
   "id": "7c370490",
   "metadata": {
    "execution": {
     "iopub.execute_input": "2022-01-08T17:49:07.400649Z",
     "iopub.status.busy": "2022-01-08T17:49:07.400090Z",
     "iopub.status.idle": "2022-01-08T17:49:07.404214Z",
     "shell.execute_reply": "2022-01-08T17:49:07.404731Z"
    },
    "id": "euVkFT5C0fW3",
    "outputId": "a2c07175-b74a-4d21-e971-cc6425d5d97e",
    "papermill": {
     "duration": 0.035549,
     "end_time": "2022-01-08T17:49:07.404931",
     "exception": false,
     "start_time": "2022-01-08T17:49:07.369382",
     "status": "completed"
    },
    "tags": []
   },
   "outputs": [
    {
     "data": {
      "text/plain": [
       "0.22879593251675526"
      ]
     },
     "execution_count": 36,
     "metadata": {},
     "output_type": "execute_result"
    }
   ],
   "source": [
    "len(summary)/len(text)"
   ]
  }
 ],
 "metadata": {
  "kernelspec": {
   "display_name": "Python 3",
   "language": "python",
   "name": "python3"
  },
  "language_info": {
   "codemirror_mode": {
    "name": "ipython",
    "version": 3
   },
   "file_extension": ".py",
   "mimetype": "text/x-python",
   "name": "python",
   "nbconvert_exporter": "python",
   "pygments_lexer": "ipython3",
   "version": "3.7.12"
  },
  "papermill": {
   "default_parameters": {},
   "duration": 24.563447,
   "end_time": "2022-01-08T17:49:10.370897",
   "environment_variables": {},
   "exception": null,
   "input_path": "__notebook__.ipynb",
   "output_path": "__notebook__.ipynb",
   "parameters": {},
   "start_time": "2022-01-08T17:48:45.807450",
   "version": "2.3.3"
  }
 },
 "nbformat": 4,
 "nbformat_minor": 5
}
